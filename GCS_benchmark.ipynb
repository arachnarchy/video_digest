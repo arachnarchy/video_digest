{
 "cells": [
  {
   "cell_type": "markdown",
   "metadata": {},
   "source": [
    "Objective: Determine success rate of GCS in correctly identifying individual words.\n",
    "\n",
    "Steps:\n",
    "1. Select at random 100 audio files from Mozilla dataset\n",
    "2. Write their original transcripts to dataframe\n",
    "3. GCS transcribe each file\n",
    "4. Write GCS transcripts to dataframe\n",
    "5. Determine most common words in original transcripts and count top 5\n",
    "6. Count same words in GCS transcripts\n",
    "7. Hit rate is benchmark"
   ]
  },
  {
   "cell_type": "markdown",
   "metadata": {},
   "source": [
    "### Import Mozilla data"
   ]
  },
  {
   "cell_type": "code",
   "execution_count": 4,
   "metadata": {},
   "outputs": [],
   "source": [
    "import pandas as pd\n",
    "\n",
    "# import transcripts to a dataframe\n",
    "meta_train = pd.read_csv('cv_corpus_v1/cv-valid-train.csv')"
   ]
  },
  {
   "cell_type": "markdown",
   "metadata": {},
   "source": [
    "### Select N random clips"
   ]
  },
  {
   "cell_type": "code",
   "execution_count": 124,
   "metadata": {},
   "outputs": [],
   "source": [
    "import random\n",
    "\n",
    "n = 100\n",
    "randoms = random.sample(range(0, len(meta_train)), n)\n",
    "\n",
    "selection = meta_train.iloc[randoms, [0,1]]\n",
    "selection.sort_index(inplace=True)\n",
    "selection = selection.reset_index()\n",
    "selection['transcript_gc'] = np.nan"
   ]
  },
  {
   "cell_type": "markdown",
   "metadata": {},
   "source": [
    "### Transcode to GC compatible format"
   ]
  },
  {
   "cell_type": "code",
   "execution_count": 125,
   "metadata": {},
   "outputs": [],
   "source": [
    "from pydub import AudioSegment\n",
    "\n",
    "for x in selection.filename:\n",
    "    file_path = str('cv_corpus_v1/' + x)\n",
    "    file_name = x[-17:-4]\n",
    "    clip = AudioSegment.from_file(file_path)\n",
    "    clip.export('clips_to_GCS/' + str(file_name) + '.wav', format = 'wav')"
   ]
  },
  {
   "cell_type": "markdown",
   "metadata": {},
   "source": [
    "### Speech recognition using Google Cloud"
   ]
  },
  {
   "cell_type": "code",
   "execution_count": 126,
   "metadata": {},
   "outputs": [],
   "source": [
    "import glob\n",
    "\n",
    "list_to_GCS = sorted(glob.glob('clips_to_GCS/*.wav'))"
   ]
  },
  {
   "cell_type": "code",
   "execution_count": 127,
   "metadata": {},
   "outputs": [],
   "source": [
    "import speech_recognition as sr\n",
    "\n",
    "r = sr.Recognizer()"
   ]
  },
  {
   "cell_type": "code",
   "execution_count": null,
   "metadata": {},
   "outputs": [],
   "source": [
    "import time\n",
    "start_time = time.time()\n",
    "\n",
    "for i, e in enumerate(list_to_GCS):\n",
    "    sample = sr.AudioFile(e)\n",
    "    with sample as source:\n",
    "         audio = r.record(source)\n",
    "    transcript_gc = r.recognize_google_cloud(audio)\n",
    "    selection.transcript_gc[i] = transcript_gc\n",
    "    \n",
    "end_time = time.time()\n",
    "\n",
    "selection.head()"
   ]
  },
  {
   "cell_type": "code",
   "execution_count": 130,
   "metadata": {},
   "outputs": [
    {
     "name": "stdout",
     "output_type": "stream",
     "text": [
      "Elapsed time was 254.47 seconds\n"
     ]
    }
   ],
   "source": [
    "print(\"Elapsed time was %g seconds\" % (end_time - start_time))"
   ]
  },
  {
   "cell_type": "markdown",
   "metadata": {},
   "source": [
    "### Calculate difference ratio between original text and GCS transcript"
   ]
  },
  {
   "cell_type": "code",
   "execution_count": 216,
   "metadata": {},
   "outputs": [
    {
     "name": "stderr",
     "output_type": "stream",
     "text": [
      "/Users/daniel/anaconda3/envs/insight/lib/python3.6/site-packages/ipykernel_launcher.py:9: SettingWithCopyWarning: \n",
      "A value is trying to be set on a copy of a slice from a DataFrame\n",
      "\n",
      "See the caveats in the documentation: http://pandas.pydata.org/pandas-docs/stable/indexing.html#indexing-view-versus-copy\n",
      "  if __name__ == '__main__':\n"
     ]
    },
    {
     "data": {
      "text/plain": [
       "0.8717051764077093"
      ]
     },
     "execution_count": 216,
     "metadata": {},
     "output_type": "execute_result"
    }
   ],
   "source": [
    "from difflib import SequenceMatcher\n",
    "\n",
    "selection['diff_ratio'] = np.nan\n",
    "\n",
    "for row in range(0, len(selection)):\n",
    "    a = selection.text[row]\n",
    "    b = selection.transcript_gc[row]\n",
    "    ratio = SequenceMatcher(None, a, b).ratio()\n",
    "    selection.diff_ratio[row] = ratio\n",
    "    \n",
    "selection.diff_ratio.mean()"
   ]
  },
  {
   "cell_type": "code",
   "execution_count": 140,
   "metadata": {},
   "outputs": [],
   "source": [
    "selection.to_csv('GCS_benchmark_1.csv')"
   ]
  },
  {
   "cell_type": "markdown",
   "metadata": {},
   "source": [
    "### Single word differences"
   ]
  },
  {
   "cell_type": "code",
   "execution_count": 212,
   "metadata": {},
   "outputs": [],
   "source": [
    "# List of words in original text\n",
    "og_words = {\n",
    "    x for x in ' '.join(\n",
    "        selection.text.str.lower().tolist()\n",
    "    ).split() if x.isalpha()\n",
    "} \n",
    "\n",
    "og_words = list(og_words)\n",
    "\n",
    "# compute words that weren't caught by GCS:\n",
    "import re\n",
    "\n",
    "og_count = np.asarray([ selection['text'].str.contains(r'\\b'+woi+r'\\b', flags=re.IGNORECASE).sum() for woi in og_words ])\n",
    "gc_count = np.asarray([ selection['transcript_gc'].str.contains(r'\\b'+woi+r'\\b', flags=re.IGNORECASE).sum() for woi in og_words ])"
   ]
  },
  {
   "cell_type": "code",
   "execution_count": 215,
   "metadata": {},
   "outputs": [
    {
     "name": "stdout",
     "output_type": "stream",
     "text": [
      "0.2633317591531516\n"
     ]
    }
   ],
   "source": [
    "sw_diffs = og_count - gc_count\n",
    "sw_diffs_perc = sw_diffs / og_count\n",
    "fail_perc = sw_diffs_perc[sw_diffs_perc >= 0].mean()\n",
    "\n",
    "print(fail_perc)"
   ]
  }
 ],
 "metadata": {
  "kernelspec": {
   "display_name": "Python 3",
   "language": "python",
   "name": "python3"
  },
  "language_info": {
   "codemirror_mode": {
    "name": "ipython",
    "version": 3
   },
   "file_extension": ".py",
   "mimetype": "text/x-python",
   "name": "python",
   "nbconvert_exporter": "python",
   "pygments_lexer": "ipython3",
   "version": "3.6.6"
  }
 },
 "nbformat": 4,
 "nbformat_minor": 2
}
