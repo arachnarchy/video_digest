{
 "cells": [
  {
   "cell_type": "markdown",
   "metadata": {},
   "source": [
    "# TF-IDF Log. Reg. classifier for educational vs entertainment YouTube videos\n",
    "## Training"
   ]
  },
  {
   "cell_type": "code",
   "execution_count": null,
   "metadata": {},
   "outputs": [],
   "source": [
    "import pandas as pd\n",
    "import numpy as np\n",
    "\n",
    "yt_data = pd.read_csv('yt_edu.csv', index_col = 0)\n",
    "yt_data.head()"
   ]
  },
  {
   "cell_type": "code",
   "execution_count": null,
   "metadata": {},
   "outputs": [],
   "source": [
    "## IF-IDF Logistic regression\n",
    "from sklearn.feature_extraction.text import TfidfVectorizer\n",
    "from sklearn.linear_model.logistic import LogisticRegression\n",
    "from sklearn.model_selection import train_test_split, cross_val_score"
   ]
  },
  {
   "cell_type": "code",
   "execution_count": null,
   "metadata": {},
   "outputs": [],
   "source": [
    "# Split in train test (default 0.25 test)\n",
    "X_train_raw, X_test_raw, y_train, y_test = train_test_split(yt_data['transcript'],yt_data['label'])"
   ]
  },
  {
   "cell_type": "code",
   "execution_count": null,
   "metadata": {},
   "outputs": [],
   "source": [
    "# Vectorize raw test data\n",
    "vectorizer = TfidfVectorizer(max_features = 1000, ngram_range = (1,2))\n",
    "X_train = vectorizer.fit_transform(X_train_raw)"
   ]
  },
  {
   "cell_type": "code",
   "execution_count": null,
   "metadata": {},
   "outputs": [],
   "source": [
    "# Train LR classifier\n",
    "classifier = LogisticRegression()\n",
    "classifier.fit(X_train, y_train)"
   ]
  },
  {
   "cell_type": "code",
   "execution_count": null,
   "metadata": {},
   "outputs": [],
   "source": [
    "# Test model accuracy, 5x cross validation\n",
    "x_test = vectorizer.transform(X_test_raw)\n",
    "scores = cross_val_score(classifier, x_test, y_test, cv=5)\n",
    "print(scores)"
   ]
  },
  {
   "cell_type": "code",
   "execution_count": null,
   "metadata": {},
   "outputs": [],
   "source": [
    "# Do predictions\n",
    "predictions = classifier.predict(x_test)"
   ]
  },
  {
   "cell_type": "code",
   "execution_count": null,
   "metadata": {},
   "outputs": [],
   "source": [
    "# report metrics\n",
    "from sklearn.metrics import classification_report\n",
    "print(classification_report(y_test, predictions))"
   ]
  },
  {
   "cell_type": "markdown",
   "metadata": {},
   "source": [
    "Scores for default:\n",
    "[0.81132075 0.88679245 0.86792453 0.86538462 0.82692308]\n",
    "\n",
    "                  precision    recall  f1-score   support\n",
    "\n",
    "        edu       0.84      0.84      0.84       123\n",
    "        rec       0.86      0.86      0.86       140\n",
    "        avg/total 0.85      0.85      0.85       263\n",
    "        \n",
    "With 1-3 ngrams same f1 score, less balanced for category\n",
    "Best with max features = 1000, ngrams 1-2"
   ]
  },
  {
   "cell_type": "code",
   "execution_count": null,
   "metadata": {},
   "outputs": [],
   "source": [
    "# Single prediction\n",
    "text = X_test_raw[16]c\n",
    "exemplar = vectorizer.transform([text]) # example string\n",
    "exemplar_cat = classifier.predict(exemplar) # returns category\n",
    "exemplar_prob = classifier.predict_proba(exemplar) # returns probability\n",
    "\n",
    "if exemplar_prob[0][0] > exemplar_prob[0][1]:\n",
    "    class_prob = exemplar_prob[0][0]\n",
    "else: class_prob = exemplar_prob[0][1]\n",
    "\n",
    "print('This transcript was classified as ' + exemplar_cat + ', with a probability of ' + str(class_prob))\n",
    "print(text[1:280])"
   ]
  },
  {
   "cell_type": "code",
   "execution_count": null,
   "metadata": {},
   "outputs": [],
   "source": [
    "# Most important features\n",
    "feature_array = np.array(vectorizer.get_feature_names())\n",
    "tfidf_sorting = np.argsort(exemplar.toarray()).flatten()[::-1]\n",
    "\n",
    "n = 3\n",
    "top_n = feature_array[tfidf_sorting][:n]\n",
    "print(top_n)"
   ]
  },
  {
   "cell_type": "code",
   "execution_count": null,
   "metadata": {},
   "outputs": [],
   "source": [
    "## Save trained LR model\n",
    "import pickle\n",
    "\n",
    "pickle.dump(vectorizer, open(\"vectorizer_edu.pickle\", \"wb\"))\n",
    "pickle.dump(classifier, open(\"classifier_edu.pickle\", \"wb\"))"
   ]
  },
  {
   "cell_type": "markdown",
   "metadata": {},
   "source": [
    "## Classification with canned model"
   ]
  },
  {
   "cell_type": "code",
   "execution_count": 1,
   "metadata": {},
   "outputs": [],
   "source": [
    "import pickle\n",
    "import pandas as pd\n",
    "import numpy as np\n",
    "from sklearn.feature_extraction.text import TfidfVectorizer\n",
    "from sklearn.linear_model.logistic import LogisticRegression"
   ]
  },
  {
   "cell_type": "code",
   "execution_count": 3,
   "metadata": {},
   "outputs": [],
   "source": [
    "vectorizer = pickle.load(open(\"vectorizer_edu.pickle\", \"rb\"))\n",
    "classifier = pickle.load(open(\"classifier_edu.pickle\", \"rb\"))"
   ]
  },
  {
   "cell_type": "code",
   "execution_count": null,
   "metadata": {},
   "outputs": [],
   "source": [
    "# Single prediction\n",
    "with open('N7-dg88gj6M_t.txt', 'r') as myfile:\n",
    "             transcript=myfile.read().replace('\\n', '')\n",
    "        \n",
    "text = transcript\n",
    "\n",
    "exemplar = vectorizer.transform([text]) # example string\n",
    "exemplar_cat = classifier.predict(exemplar) # returns category\n",
    "exemplar_prob = classifier.predict_proba(exemplar) # returns probability\n",
    "\n",
    "if exemplar_prob[0][0] > exemplar_prob[0][1]:\n",
    "    class_prob = exemplar_prob[0][0]\n",
    "else: class_prob = exemplar_prob[0][1]\n",
    "\n",
    "print('This transcript was classified as ' + exemplar_cat + ', with a probability of ' + str(class_prob))\n",
    "print(text[1:280])"
   ]
  },
  {
   "cell_type": "code",
   "execution_count": null,
   "metadata": {},
   "outputs": [],
   "source": [
    "# Most important features\n",
    "feature_array = np.array(vectorizer.get_feature_names())\n",
    "tfidf_sorting = np.argsort(exemplar.toarray()).flatten()[::-1]\n",
    "\n",
    "n = 3\n",
    "top_n = feature_array[tfidf_sorting][:n]\n",
    "print(top_n)"
   ]
  },
  {
   "cell_type": "code",
   "execution_count": 1,
   "metadata": {},
   "outputs": [
    {
     "data": {
      "text/plain": [
       "1087.0"
      ]
     },
     "execution_count": 1,
     "metadata": {},
     "output_type": "execute_result"
    }
   ],
   "source": [
    "2174.00/2"
   ]
  },
  {
   "cell_type": "code",
   "execution_count": null,
   "metadata": {},
   "outputs": [],
   "source": []
  }
 ],
 "metadata": {
  "kernelspec": {
   "display_name": "Python 3",
   "language": "python",
   "name": "python3"
  },
  "language_info": {
   "codemirror_mode": {
    "name": "ipython",
    "version": 3
   },
   "file_extension": ".py",
   "mimetype": "text/x-python",
   "name": "python",
   "nbconvert_exporter": "python",
   "pygments_lexer": "ipython3",
   "version": "3.6.6"
  }
 },
 "nbformat": 4,
 "nbformat_minor": 2
}
