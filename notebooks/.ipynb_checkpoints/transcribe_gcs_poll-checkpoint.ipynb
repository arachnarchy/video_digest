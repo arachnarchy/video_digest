{
 "cells": [
  {
   "cell_type": "code",
   "execution_count": null,
   "metadata": {},
   "outputs": [],
   "source": [
    "import time\n",
    "from google.cloud import speech\n",
    "\n",
    "client = speech.SpeechClient()\n",
    "\n",
    "operation = client.long_running_recognize(\n",
    "     audio=speech.types.RecognitionAudio(\n",
    "         uri='gs://my-bucket/recording.flac',\n",
    "     ),\n",
    "     config=speech.types.RecognitionConfig(\n",
    "         encoding='LINEAR16',\n",
    "         language_code='en-US',\n",
    "         sample_rate_hertz=44100,\n",
    "     ),\n",
    " )\n",
    "retry_count = 100\n",
    "while retry_count > 0 and not operation.complete:\n",
    "    retry_count -= 1\n",
    "    time.sleep(10)\n",
    "    operation.poll()  # API call\n",
    "\n",
    "\n",
    "for result in operation.results:\n",
    "     for alternative in result.alternatives:\n",
    "        print('=' * 20)\n",
    "        print(alternative.transcript)\n",
    "        print(alternative.confidence)"
   ]
  },
  {
   "cell_type": "code",
   "execution_count": 37,
   "metadata": {},
   "outputs": [],
   "source": [
    "def transcribe_gcs_poll(gcs_uri):\n",
    "    import googleapiclient.discovery\n",
    "    from google.cloud import speech\n",
    "    import time\n",
    "\n",
    "    service = googleapiclient.discovery.build('speech', 'v1')\n",
    "    service_request = service.speech().longrunningrecognize(\n",
    "        body= {\n",
    "            \"config\": {\n",
    "                #\"encoding\": \"FLAC\",\n",
    "                \"languageCode\": \"en-US\",\n",
    "                \"enableWordTimeOffsets\": True\n",
    "            },\n",
    "            \"audio\": {\n",
    "                \"uri\": gcs_uri\n",
    "            }\n",
    "        }\n",
    "    )\n",
    "    operation = service_request.execute()\n",
    "\n",
    "    name = operation['name']\n",
    "    service_request = service.operations().get(name=name)\n",
    "\n",
    "    while True:\n",
    "        # Give the server a few seconds to process.\n",
    "        print('Waiting for server processing...')\n",
    "        time.sleep(1)\n",
    "\n",
    "        # Get the long running operation with response.\n",
    "        response = service_request.execute()\n",
    "\n",
    "        if 'done' in response and response['done']:\n",
    "            break\n",
    "    \n",
    "    transcription_str = ''\n",
    "    confidence_metric = 0\n",
    "    for result in response['response']['results']:\n",
    "        transcription_str += ' ' + result['alternatives'][0]['transcript']\n",
    "        confidence_metric = result['alternatives'][0]['confidence']\n",
    "    \n",
    "    return transcription_str, confidence_metric"
   ]
  },
  {
   "cell_type": "code",
   "execution_count": 38,
   "metadata": {},
   "outputs": [
    {
     "name": "stdout",
     "output_type": "stream",
     "text": [
      "Waiting for server processing...\n",
      "Waiting for server processing...\n",
      "Waiting for server processing...\n",
      "Waiting for server processing...\n",
      "Waiting for server processing...\n",
      "Waiting for server processing...\n",
      "Waiting for server processing...\n",
      "Waiting for server processing...\n",
      "Waiting for server processing...\n",
      "Waiting for server processing...\n",
      "Waiting for server processing...\n",
      "Waiting for server processing...\n",
      "Waiting for server processing...\n",
      "Waiting for server processing...\n",
      "Waiting for server processing...\n",
      "Waiting for server processing...\n",
      "Waiting for server processing...\n",
      "Waiting for server processing...\n",
      "Waiting for server processing...\n",
      "Waiting for server processing...\n",
      "Waiting for server processing...\n",
      "Waiting for server processing...\n",
      "Waiting for server processing...\n",
      "Waiting for server processing...\n",
      "Waiting for server processing...\n",
      "Waiting for server processing...\n",
      "Waiting for server processing...\n",
      "Waiting for server processing...\n",
      "Waiting for server processing...\n"
     ]
    }
   ],
   "source": [
    "filename =   'yt3.wav'\n",
    "audio_file = 'gs://audio_a/tests/' + filename\n",
    "t, c = transcribe_gcs_poll(audio_file)"
   ]
  },
  {
   "cell_type": "code",
   "execution_count": 39,
   "metadata": {},
   "outputs": [
    {
     "name": "stdout",
     "output_type": "stream",
     "text": [
      " I'm that has green another transformation the little leopards comedians have grown enormously  this battle is not all five times bigger and then full breeding colors  this female has become a real Beauty  the mail. Use the problems with his tongue he can taste that she's being that way  but before he can get to her he has to fight off arrival mail  that all racing Against Time  that lives are so pretty that they only have one chance to make  he approaches her but she seems less than King  it might be that she's already mated and is already pregnant  you might be too late  she couldn't afford to waste time as soon as she's laid her eggs she'll die and all the males will be dead soon after their lives are lived in the brief wet season the van so that short lives Hastings their end  living fast and dying young it's a radical strategy for the place where resources are low for most of the year\n"
     ]
    }
   ],
   "source": [
    "print(t)"
   ]
  },
  {
   "cell_type": "code",
   "execution_count": 36,
   "metadata": {},
   "outputs": [
    {
     "data": {
      "text/plain": [
       "{'alternatives': [{'confidence': 0.8701045,\n",
       "   'transcript': ' this battle is not all five times bigger and then full breeding colors',\n",
       "   'words': [{'endTime': '16.300s', 'startTime': '15.900s', 'word': 'this'},\n",
       "    {'endTime': '16.800s', 'startTime': '16.300s', 'word': 'battle'},\n",
       "    {'endTime': '16.900s', 'startTime': '16.800s', 'word': 'is'},\n",
       "    {'endTime': '17.100s', 'startTime': '16.900s', 'word': 'not'},\n",
       "    {'endTime': '17.300s', 'startTime': '17.100s', 'word': 'all'},\n",
       "    {'endTime': '17.800s', 'startTime': '17.300s', 'word': 'five'},\n",
       "    {'endTime': '18.400s', 'startTime': '17.800s', 'word': 'times'},\n",
       "    {'endTime': '18.700s', 'startTime': '18.400s', 'word': 'bigger'},\n",
       "    {'endTime': '19s', 'startTime': '18.700s', 'word': 'and'},\n",
       "    {'endTime': '19.200s', 'startTime': '19s', 'word': 'then'},\n",
       "    {'endTime': '19.600s', 'startTime': '19.200s', 'word': 'full'},\n",
       "    {'endTime': '20.200s', 'startTime': '19.600s', 'word': 'breeding'},\n",
       "    {'endTime': '20.700s', 'startTime': '20.200s', 'word': 'colors'}]}]}"
      ]
     },
     "execution_count": 36,
     "metadata": {},
     "output_type": "execute_result"
    }
   ],
   "source": [
    "response['response']['results'][1]"
   ]
  },
  {
   "cell_type": "code",
   "execution_count": 33,
   "metadata": {},
   "outputs": [
    {
     "data": {
      "text/plain": [
       "0.91563505"
      ]
     },
     "execution_count": 33,
     "metadata": {},
     "output_type": "execute_result"
    }
   ],
   "source": [
    "response['response']['results'][0]['alternatives'][0]['confidence']"
   ]
  },
  {
   "cell_type": "code",
   "execution_count": 30,
   "metadata": {},
   "outputs": [
    {
     "data": {
      "text/plain": [
       "'gs://audio_a/tests/yt3.wav'"
      ]
     },
     "execution_count": 30,
     "metadata": {},
     "output_type": "execute_result"
    }
   ],
   "source": [
    "str('gs://audio_a/tests/yt3.wav')"
   ]
  },
  {
   "cell_type": "code",
   "execution_count": 31,
   "metadata": {},
   "outputs": [
    {
     "data": {
      "text/plain": [
       "'gs://audio_a/tests/yt3.wav'"
      ]
     },
     "execution_count": 31,
     "metadata": {},
     "output_type": "execute_result"
    }
   ],
   "source": [
    "'gs://audio_a/tests/yt3.wav'"
   ]
  },
  {
   "cell_type": "code",
   "execution_count": null,
   "metadata": {},
   "outputs": [],
   "source": []
  }
 ],
 "metadata": {
  "kernelspec": {
   "display_name": "Python 3",
   "language": "python",
   "name": "python3"
  },
  "language_info": {
   "codemirror_mode": {
    "name": "ipython",
    "version": 3
   },
   "file_extension": ".py",
   "mimetype": "text/x-python",
   "name": "python",
   "nbconvert_exporter": "python",
   "pygments_lexer": "ipython3",
   "version": "3.5.5"
  }
 },
 "nbformat": 4,
 "nbformat_minor": 2
}
