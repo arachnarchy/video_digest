{
 "cells": [
  {
   "cell_type": "code",
   "execution_count": 37,
   "metadata": {},
   "outputs": [],
   "source": [
    "def transcribe_gcs_poll(gcs_uri):\n",
    "    import googleapiclient.discovery\n",
    "    from google.cloud import speech\n",
    "    import time\n",
    "\n",
    "    service = googleapiclient.discovery.build('speech', 'v1')\n",
    "    service_request = service.speech().longrunningrecognize(\n",
    "        body= {\n",
    "            \"config\": {\n",
    "                #\"encoding\": \"FLAC\",\n",
    "                \"languageCode\": \"en-US\",\n",
    "                \"enableWordTimeOffsets\": True\n",
    "            },\n",
    "            \"audio\": {\n",
    "                \"uri\": gcs_uri\n",
    "            }\n",
    "        }\n",
    "    )\n",
    "    operation = service_request.execute()\n",
    "\n",
    "    name = operation['name']\n",
    "    service_request = service.operations().get(name=name)\n",
    "\n",
    "    while True:\n",
    "        # Give the server a few seconds to process.\n",
    "        print('Waiting for server processing...')\n",
    "        time.sleep(1)\n",
    "\n",
    "        # Get the long running operation with response.\n",
    "        response = service_request.execute()\n",
    "\n",
    "        if 'done' in response and response['done']:\n",
    "            break\n",
    "    \n",
    "    transcription_str = ''\n",
    "    confidence_metric = 0\n",
    "    for result in response['response']['results']:\n",
    "        transcription_str += ' ' + result['alternatives'][0]['transcript']\n",
    "        confidence_metric = result['alternatives'][0]['confidence']\n",
    "    \n",
    "    return transcription_str, confidence_metric"
   ]
  },
  {
   "cell_type": "code",
   "execution_count": null,
   "metadata": {},
   "outputs": [],
   "source": [
    "filename =   'yt3.wav'\n",
    "audio_file = 'gs://audio_a/tests/' + filename\n",
    "t, c = transcribe_gcs_poll(audio_file)"
   ]
  },
  {
   "cell_type": "code",
   "execution_count": null,
   "metadata": {},
   "outputs": [],
   "source": [
    "print(t)"
   ]
  },
  {
   "cell_type": "code",
   "execution_count": null,
   "metadata": {},
   "outputs": [],
   "source": [
    "response['response']['results'][1]"
   ]
  },
  {
   "cell_type": "code",
   "execution_count": null,
   "metadata": {},
   "outputs": [],
   "source": [
    "response['response']['results'][0]['alternatives'][0]['confidence']"
   ]
  },
  {
   "cell_type": "code",
   "execution_count": 42,
   "metadata": {},
   "outputs": [
    {
     "name": "stdout",
     "output_type": "stream",
     "text": [
      "0\n",
      "3\n",
      "8\n"
     ]
    }
   ],
   "source": [
    "def summer():\n",
    "  res = 0\n",
    "  inc = 0\n",
    "  while True:\n",
    "    res += inc\n",
    "    inc = (yield res)\n",
    "\n",
    "s = summer()\n",
    "print(s.send(None))\n",
    "print(s.send(3))\n",
    "print(s.send(5))"
   ]
  },
  {
   "cell_type": "code",
   "execution_count": 43,
   "metadata": {},
   "outputs": [
    {
     "ename": "AttributeError",
     "evalue": "module 'asyncio' has no attribute 'run'",
     "output_type": "error",
     "traceback": [
      "\u001b[0;31m---------------------------------------------------------------------------\u001b[0m",
      "\u001b[0;31mAttributeError\u001b[0m                            Traceback (most recent call last)",
      "\u001b[0;32m<ipython-input-43-089ce062a451>\u001b[0m in \u001b[0;36m<module>\u001b[0;34m()\u001b[0m\n\u001b[1;32m     14\u001b[0m     \u001b[0mprint\u001b[0m\u001b[0;34m(\u001b[0m\u001b[0;34m'finished at'\u001b[0m\u001b[0;34m,\u001b[0m \u001b[0mtime\u001b[0m\u001b[0;34m.\u001b[0m\u001b[0mstrftime\u001b[0m\u001b[0;34m(\u001b[0m\u001b[0;34m'%X'\u001b[0m\u001b[0;34m)\u001b[0m\u001b[0;34m)\u001b[0m\u001b[0;34m\u001b[0m\u001b[0m\n\u001b[1;32m     15\u001b[0m \u001b[0;34m\u001b[0m\u001b[0m\n\u001b[0;32m---> 16\u001b[0;31m \u001b[0masyncio\u001b[0m\u001b[0;34m.\u001b[0m\u001b[0mrun\u001b[0m\u001b[0;34m(\u001b[0m\u001b[0mmain\u001b[0m\u001b[0;34m(\u001b[0m\u001b[0;34m)\u001b[0m\u001b[0;34m)\u001b[0m\u001b[0;34m\u001b[0m\u001b[0m\n\u001b[0m",
      "\u001b[0;31mAttributeError\u001b[0m: module 'asyncio' has no attribute 'run'"
     ]
    }
   ],
   "source": [
    "import asyncio\n",
    "import time\n",
    "\n",
    "async def say_after(delay, what):\n",
    "    await asyncio.sleep(delay)\n",
    "    print(what)\n",
    "\n",
    "async def main():\n",
    "    print('started at', time.strftime('%X'))\n",
    "\n",
    "    await say_after(1, 'hello')\n",
    "    await say_after(2, 'world')\n",
    "\n",
    "    print('finished at', time.strftime('%X'))\n",
    "\n",
    "asyncio.run(main())"
   ]
  },
  {
   "cell_type": "code",
   "execution_count": null,
   "metadata": {},
   "outputs": [],
   "source": []
  }
 ],
 "metadata": {
  "kernelspec": {
   "display_name": "Python 3",
   "language": "python",
   "name": "python3"
  },
  "language_info": {
   "codemirror_mode": {
    "name": "ipython",
    "version": 3
   },
   "file_extension": ".py",
   "mimetype": "text/x-python",
   "name": "python",
   "nbconvert_exporter": "python",
   "pygments_lexer": "ipython3",
   "version": "3.5.5"
  }
 },
 "nbformat": 4,
 "nbformat_minor": 2
}
