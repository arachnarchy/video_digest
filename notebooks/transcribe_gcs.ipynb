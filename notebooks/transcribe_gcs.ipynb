{
 "cells": [
  {
   "cell_type": "markdown",
   "metadata": {},
   "source": [
    "## Processing longer audio files\n",
    "Google Cloud Speech will only process files < 1min synchronously. Longer files require the long_running_recognize method which is asynchronous and requires the files to be hosted on GC. In this version, the output will just be printed (not captured)."
   ]
  },
  {
   "cell_type": "code",
   "execution_count": 1,
   "metadata": {},
   "outputs": [],
   "source": [
    "# function to use long-file transcription\n",
    "\n",
    "def transcribe_gcs(gcs_uri):\n",
    "    \"\"\"Asynchronously transcribes the audio file specified by the gcs_uri.\"\"\"\n",
    "    from google.cloud import speech\n",
    "    from google.cloud.speech import enums\n",
    "    from google.cloud.speech import types\n",
    "    \n",
    "    #client = speech.SpeechClient()\n",
    "    client = speech.SpeechClient.from_service_account_json(\"/Users/daniel/Documents/Work/ProDev/Data Science/Keys/service_account_key.json\")\n",
    "\n",
    "    audio = types.RecognitionAudio(uri=gcs_uri)\n",
    "    config = types.RecognitionConfig(\n",
    "        #encoding=enums.RecognitionConfig.AudioEncoding.FLAC,\n",
    "        #sample_rate_hertz=16000,\n",
    "        language_code='en-US')\n",
    "\n",
    "    operation = client.long_running_recognize(config, audio)\n",
    "\n",
    "    print('Waiting for operation to complete...')\n",
    "    response = operation.result(timeout=90)\n",
    "\n",
    "    transcription_str = ''\n",
    "    confidence_metric = 0\n",
    "    for result in response.results:\n",
    "        transcription_str += ' ' + format(result.alternatives[0].transcript)\n",
    "        confidence_metric = format(result.alternatives[0].confidence)\n",
    "\n",
    "    #for result in response.results:\n",
    "        # The first alternative is the most likely one for this portion.\n",
    "        #print(u'Transcript: {}'.format(result.alternatives[0].transcript))\n",
    "        #print('Confidence: {}'.format(result.alternatives[0].confidence))\n",
    "        \n",
    "    return transcription_str, confidence_metric"
   ]
  },
  {
   "cell_type": "markdown",
   "metadata": {},
   "source": [
    "Transcribe an audio file hosted on GC"
   ]
  },
  {
   "cell_type": "code",
   "execution_count": 2,
   "metadata": {},
   "outputs": [
    {
     "name": "stdout",
     "output_type": "stream",
     "text": [
      "Waiting for operation to complete...\n"
     ]
    }
   ],
   "source": [
    "filename =   'yt2.wav'\n",
    "audio_file = 'gs://audio_a/tests/' + filename\n",
    "t, c = transcribe_gcs(audio_file)"
   ]
  },
  {
   "cell_type": "code",
   "execution_count": 3,
   "metadata": {},
   "outputs": [
    {
     "name": "stdout",
     "output_type": "stream",
     "text": [
      " this is you know these Dreams by Masters they are idea for flipping an election to Trump is will take out these 13 Russians will put Facebook ads Annapolis way that will have will be putting our finger on on this election more than the entire media in the United States no match for 13 Russians and they're pizzagate conspiracy on on on Facebook but that you look at the language they use and and it's really kind of hilarious the dark Facebook at the darkest Espionage turning one American against another event they're turning one American against another I think the Russian Spa ounces in a few think about how the left has Academia of all to themselves but they've got the vast majority of the entertainment industry even though that they're kind of wising up to the fact that it did the politicized it's not selling nearly as well as as it used to and then with the media you've only got talk radio and some blogs other than that the left is got that as well and and is Peter teal says that the Silicon Valley is one party town and they still lost so it decide K through 12 they have the universities they have all of the media they have Silicon Valley they have Hollywood the one Lytle place a tiny little area where were there is still free speech and you've got an alternative point of view is on the internet and look at what the social media's are doing I mean if Trump would do anything useful that's why I apply the First Amendment to these Public Square social media companies is so finally the president mentioned something about this over the weekend he tweeted about how he's not going to let it happen that the social media Giants are going to control hot that they think they're going to censor conservatives in I have my phone was blowing up you were going crazy this is so great I can't believe he's doing this and I was thinking of what we've been under incredible fire since Election Day 2016 it once but a dog on people that voice is like your is your dominant on Twitter voice is like ours in Breitbart which is also big and social media were dominant on Facebook and very big on Twitter as well it say when when our side won all the sudden he was game on to start trying to send her and disciple and to boycott into Blacklist and to use all these totality refashion tactics and then all the sudden present fires off a tweet 2 days ago and I'm supposed to swell and I got I wasn't there I wasn't with let's just hope he didn't say don't worry I'll never forget you as he said to the angel moms for 18 months during the campaign\n"
     ]
    }
   ],
   "source": [
    "print(t)"
   ]
  },
  {
   "cell_type": "markdown",
   "metadata": {},
   "source": [
    "Write the transcript to a file"
   ]
  },
  {
   "cell_type": "code",
   "execution_count": 6,
   "metadata": {},
   "outputs": [],
   "source": [
    "transcript = open(\"transcript_bb_coulter.txt\", \"w\")\n",
    "transcript.write(t)\n",
    "transcript.close()"
   ]
  },
  {
   "cell_type": "code",
   "execution_count": 16,
   "metadata": {},
   "outputs": [
    {
     "ename": "TypeError",
     "evalue": "the JSON object must be str, not 'NoneType'",
     "output_type": "error",
     "traceback": [
      "\u001b[0;31m---------------------------------------------------------------------------\u001b[0m",
      "\u001b[0;31mTypeError\u001b[0m                                 Traceback (most recent call last)",
      "\u001b[0;32m<ipython-input-16-3a1349836550>\u001b[0m in \u001b[0;36m<module>\u001b[0;34m()\u001b[0m\n\u001b[1;32m      2\u001b[0m \u001b[0;32mimport\u001b[0m \u001b[0mjson\u001b[0m\u001b[0;34m\u001b[0m\u001b[0m\n\u001b[1;32m      3\u001b[0m \u001b[0;31m#print(os.environ['FOO'])\u001b[0m\u001b[0;34m\u001b[0m\u001b[0;34m\u001b[0m\u001b[0m\n\u001b[0;32m----> 4\u001b[0;31m \u001b[0mx\u001b[0m \u001b[0;34m=\u001b[0m \u001b[0mjson\u001b[0m\u001b[0;34m.\u001b[0m\u001b[0mloads\u001b[0m\u001b[0;34m(\u001b[0m\u001b[0mos\u001b[0m\u001b[0;34m.\u001b[0m\u001b[0mgetenv\u001b[0m\u001b[0;34m(\u001b[0m\u001b[0;34m'FOO'\u001b[0m\u001b[0;34m)\u001b[0m\u001b[0;34m)\u001b[0m\u001b[0;34m\u001b[0m\u001b[0m\n\u001b[0m\u001b[1;32m      5\u001b[0m \u001b[0mprint\u001b[0m\u001b[0;34m(\u001b[0m\u001b[0mx\u001b[0m\u001b[0;34m)\u001b[0m\u001b[0;34m\u001b[0m\u001b[0m\n",
      "\u001b[0;32m~/anaconda3/envs/main/lib/python3.5/json/__init__.py\u001b[0m in \u001b[0;36mloads\u001b[0;34m(s, encoding, cls, object_hook, parse_float, parse_int, parse_constant, object_pairs_hook, **kw)\u001b[0m\n\u001b[1;32m    310\u001b[0m     \u001b[0;32mif\u001b[0m \u001b[0;32mnot\u001b[0m \u001b[0misinstance\u001b[0m\u001b[0;34m(\u001b[0m\u001b[0ms\u001b[0m\u001b[0;34m,\u001b[0m \u001b[0mstr\u001b[0m\u001b[0;34m)\u001b[0m\u001b[0;34m:\u001b[0m\u001b[0;34m\u001b[0m\u001b[0m\n\u001b[1;32m    311\u001b[0m         raise TypeError('the JSON object must be str, not {!r}'.format(\n\u001b[0;32m--> 312\u001b[0;31m                             s.__class__.__name__))\n\u001b[0m\u001b[1;32m    313\u001b[0m     \u001b[0;32mif\u001b[0m \u001b[0ms\u001b[0m\u001b[0;34m.\u001b[0m\u001b[0mstartswith\u001b[0m\u001b[0;34m(\u001b[0m\u001b[0;34mu'\\ufeff'\u001b[0m\u001b[0;34m)\u001b[0m\u001b[0;34m:\u001b[0m\u001b[0;34m\u001b[0m\u001b[0m\n\u001b[1;32m    314\u001b[0m         raise JSONDecodeError(\"Unexpected UTF-8 BOM (decode using utf-8-sig)\",\n",
      "\u001b[0;31mTypeError\u001b[0m: the JSON object must be str, not 'NoneType'"
     ]
    }
   ],
   "source": [
    "import os\n",
    "import json\n",
    "#print(os.environ['FOO'])\n",
    "x = json.loads(os.getenv('FOO'))\n",
    "print(x)"
   ]
  },
  {
   "cell_type": "code",
   "execution_count": 6,
   "metadata": {},
   "outputs": [
    {
     "ename": "NameError",
     "evalue": "name 'FOO' is not defined",
     "output_type": "error",
     "traceback": [
      "\u001b[0;31m---------------------------------------------------------------------------\u001b[0m",
      "\u001b[0;31mNameError\u001b[0m                                 Traceback (most recent call last)",
      "\u001b[0;32m<ipython-input-6-4b4c492f63ad>\u001b[0m in \u001b[0;36m<module>\u001b[0;34m()\u001b[0m\n\u001b[1;32m      1\u001b[0m \u001b[0;32mimport\u001b[0m \u001b[0mast\u001b[0m\u001b[0;34m\u001b[0m\u001b[0m\n\u001b[0;32m----> 2\u001b[0;31m \u001b[0mast\u001b[0m\u001b[0;34m.\u001b[0m\u001b[0mliteral_eval\u001b[0m\u001b[0;34m(\u001b[0m\u001b[0mFOO\u001b[0m\u001b[0;34m)\u001b[0m\u001b[0;34m\u001b[0m\u001b[0m\n\u001b[0m",
      "\u001b[0;31mNameError\u001b[0m: name 'FOO' is not defined"
     ]
    }
   ],
   "source": [
    "import ast\n",
    "ast.literal_eval(FOO)"
   ]
  },
  {
   "cell_type": "code",
   "execution_count": null,
   "metadata": {},
   "outputs": [],
   "source": []
  }
 ],
 "metadata": {
  "kernelspec": {
   "display_name": "Python 3",
   "language": "python",
   "name": "python3"
  },
  "language_info": {
   "codemirror_mode": {
    "name": "ipython",
    "version": 3
   },
   "file_extension": ".py",
   "mimetype": "text/x-python",
   "name": "python",
   "nbconvert_exporter": "python",
   "pygments_lexer": "ipython3",
   "version": "3.5.5"
  }
 },
 "nbformat": 4,
 "nbformat_minor": 2
}
