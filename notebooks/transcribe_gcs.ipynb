{
 "cells": [
  {
   "cell_type": "markdown",
   "metadata": {},
   "source": [
    "## Processing longer audio files\n",
    "Google Cloud Speech will only process files < 1min synchronously. Longer files require the long_running_recognize method which is asynchronous and requires the files to be hosted on GC. In this version, the output will just be printed (not captured)."
   ]
  },
  {
   "cell_type": "code",
   "execution_count": 2,
   "metadata": {},
   "outputs": [],
   "source": [
    "# function to use long-file transcription\n",
    "\n",
    "def transcribe_gcs(gcs_uri):\n",
    "    \"\"\"Asynchronously transcribes the audio file specified by the gcs_uri.\"\"\"\n",
    "    from google.cloud import speech\n",
    "    from google.cloud.speech import enums\n",
    "    from google.cloud.speech import types\n",
    "    \n",
    "    client = speech.SpeechClient()\n",
    "\n",
    "    audio = types.RecognitionAudio(uri=gcs_uri)\n",
    "    config = types.RecognitionConfig(\n",
    "        #encoding=enums.RecognitionConfig.AudioEncoding.FLAC,\n",
    "        #sample_rate_hertz=16000,\n",
    "        language_code='en-US')\n",
    "\n",
    "    operation = client.long_running_recognize(config, audio)\n",
    "\n",
    "    print('Waiting for operation to complete...')\n",
    "    response = operation.result(timeout=90)\n",
    "\n",
    "    transcription_str = ''\n",
    "    confidence_metric = 0\n",
    "    for result in response.results:\n",
    "        transcription_str += ' ' + format(result.alternatives[0].transcript)\n",
    "        confidence_metric = format(result.alternatives[0].confidence)\n",
    "\n",
    "    #for result in response.results:\n",
    "        # The first alternative is the most likely one for this portion.\n",
    "        #print(u'Transcript: {}'.format(result.alternatives[0].transcript))\n",
    "        #print('Confidence: {}'.format(result.alternatives[0].confidence))\n",
    "        \n",
    "    return transcription_str, confidence_metric"
   ]
  },
  {
   "cell_type": "markdown",
   "metadata": {},
   "source": [
    "Transcribe an audio file hosted on GC"
   ]
  },
  {
   "cell_type": "code",
   "execution_count": 4,
   "metadata": {},
   "outputs": [
    {
     "name": "stdout",
     "output_type": "stream",
     "text": [
      "Waiting for operation to complete...\n"
     ]
    }
   ],
   "source": [
    "filename =   'yt2.wav'\n",
    "audio_file = 'gs://audio_a/tests/' + filename\n",
    "t, c = transcribe_gcs(audio_file)"
   ]
  },
  {
   "cell_type": "code",
   "execution_count": 5,
   "metadata": {},
   "outputs": [
    {
     "name": "stdout",
     "output_type": "stream",
     "text": [
      "0.9662185907363892\n"
     ]
    }
   ],
   "source": [
    "print(c)"
   ]
  },
  {
   "cell_type": "markdown",
   "metadata": {},
   "source": [
    "Write the transcript to a file"
   ]
  },
  {
   "cell_type": "code",
   "execution_count": 6,
   "metadata": {},
   "outputs": [],
   "source": [
    "transcript = open(\"transcript_bb_coulter.txt\", \"w\")\n",
    "transcript.write(t)\n",
    "transcript.close()"
   ]
  },
  {
   "cell_type": "code",
   "execution_count": null,
   "metadata": {},
   "outputs": [],
   "source": []
  }
 ],
 "metadata": {
  "kernelspec": {
   "display_name": "Python 3",
   "language": "python",
   "name": "python3"
  },
  "language_info": {
   "codemirror_mode": {
    "name": "ipython",
    "version": 3
   },
   "file_extension": ".py",
   "mimetype": "text/x-python",
   "name": "python",
   "nbconvert_exporter": "python",
   "pygments_lexer": "ipython3",
   "version": "3.6.6"
  }
 },
 "nbformat": 4,
 "nbformat_minor": 2
}
