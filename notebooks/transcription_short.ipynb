{
 "cells": [
  {
   "cell_type": "markdown",
   "metadata": {},
   "source": [
    "## Transcribe youtube video/audio"
   ]
  },
  {
   "cell_type": "markdown",
   "metadata": {},
   "source": [
    "First download the audio of a short youtube clip."
   ]
  },
  {
   "cell_type": "code",
   "execution_count": null,
   "metadata": {},
   "outputs": [],
   "source": [
    "from pytube import YouTube\n",
    "\n",
    "# downloads audio from Conan Bill Burr clip (2:19)\n",
    "yt = YouTube('https://www.youtube.com/watch?v=_iSyYsv-5Oo')\n",
    "test_audio = yt.streams.filter(only_audio=True).first().download()\n",
    "\n",
    "# yt.streams.all() #shows all available streams\n",
    "#YouTube('https://www.youtube.com/watch?v=_iSyYsv-5Oo').streams.first().download() # downloads best video"
   ]
  },
  {
   "cell_type": "markdown",
   "metadata": {},
   "source": [
    "### Transcoding audio (for ASR API compatibility)"
   ]
  },
  {
   "cell_type": "code",
   "execution_count": null,
   "metadata": {},
   "outputs": [],
   "source": [
    "from pydub import AudioSegment\n",
    "\n",
    "AudioSegment.from_file(test_audio).export(\"test_audio.wav\", format=\"wav\")"
   ]
  },
  {
   "cell_type": "markdown",
   "metadata": {},
   "source": [
    "Only the first 10 seconds"
   ]
  },
  {
   "cell_type": "code",
   "execution_count": 23,
   "metadata": {},
   "outputs": [
    {
     "data": {
      "text/plain": [
       "<_io.BufferedRandom name='burr.wav'>"
      ]
     },
     "execution_count": 23,
     "metadata": {},
     "output_type": "execute_result"
    }
   ],
   "source": [
    "burr =  AudioSegment.from_file(\"test_audio.wav\")\n",
    "# pydub does things in milliseconds\n",
    "ten_seconds = 10 * 1000\n",
    "first_10_seconds = burr[:ten_seconds]\n",
    "\n",
    "first_10_seconds.export('burr.wav', format='wav')"
   ]
  },
  {
   "cell_type": "markdown",
   "metadata": {},
   "source": [
    "### Speech recognition using Google Web (not cloud)"
   ]
  },
  {
   "cell_type": "code",
   "execution_count": 1,
   "metadata": {},
   "outputs": [
    {
     "data": {
      "text/plain": [
       "\"Descanso well for you it's because you're doing are so popular the latest won the Tour is called 50 yes sir you\""
      ]
     },
     "execution_count": 1,
     "metadata": {},
     "output_type": "execute_result"
    }
   ],
   "source": [
    "import speech_recognition as sr\n",
    "\n",
    "r = sr.Recognizer()\n",
    "\n",
    "sample = sr.AudioFile('burr.wav')\n",
    "\n",
    "with sample as source:\n",
    "    audio = r.record(source)\n",
    "    \n",
    "r.recognize_google(audio)"
   ]
  },
  {
   "cell_type": "markdown",
   "metadata": {},
   "source": [
    "### Speech recognition using Google Cloud"
   ]
  },
  {
   "cell_type": "code",
   "execution_count": 4,
   "metadata": {},
   "outputs": [
    {
     "data": {
      "text/plain": [
       "'the song the Galaxy departure as well '"
      ]
     },
     "execution_count": 4,
     "metadata": {},
     "output_type": "execute_result"
    }
   ],
   "source": [
    "import speech_recognition as sr\n",
    "\n",
    "r = sr.Recognizer()\n",
    "\n",
    "sample = sr.AudioFile('clips_to_GCS/sample-032286.aiff')\n",
    "\n",
    "with sample as source:\n",
    "    audio = r.record(source)\n",
    "    \n",
    "r.recognize_google_cloud(audio)"
   ]
  },
  {
   "cell_type": "code",
   "execution_count": null,
   "metadata": {},
   "outputs": [],
   "source": []
  }
 ],
 "metadata": {
  "kernelspec": {
   "display_name": "Python 3",
   "language": "python",
   "name": "python3"
  },
  "language_info": {
   "codemirror_mode": {
    "name": "ipython",
    "version": 3
   },
   "file_extension": ".py",
   "mimetype": "text/x-python",
   "name": "python",
   "nbconvert_exporter": "python",
   "pygments_lexer": "ipython3",
   "version": "3.6.6"
  }
 },
 "nbformat": 4,
 "nbformat_minor": 2
}
