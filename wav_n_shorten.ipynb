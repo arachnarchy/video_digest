{
 "cells": [
  {
   "cell_type": "markdown",
   "metadata": {},
   "source": [
    "### Crop random 60s from mp4 audio files & copy over as wav"
   ]
  },
  {
   "cell_type": "code",
   "execution_count": 1,
   "metadata": {},
   "outputs": [],
   "source": [
    "import os\n",
    "import pandas as pd\n",
    "\n",
    "files_mp4 = os.listdir('yt_audio')\n",
    "yt_data = pd.read_csv('yt_data.csv', index_col=0)"
   ]
  },
  {
   "cell_type": "code",
   "execution_count": 4,
   "metadata": {},
   "outputs": [
    {
     "name": "stderr",
     "output_type": "stream",
     "text": [
      "100%|██████████| 1068/1068 [15:49<00:00,  1.22it/s]\n"
     ]
    }
   ],
   "source": [
    "import random\n",
    "from tqdm import tqdm\n",
    "from pydub import AudioSegment\n",
    "\n",
    "for ytID in tqdm(yt_data.ytID):\n",
    "    file = 'yt_audio/' + ytID + '.mp4'\n",
    "    clip = AudioSegment.from_file(file)\n",
    "    duration = len(clip)\n",
    "    \n",
    "    max_duration = 60000\n",
    "    if duration > max_duration:\n",
    "        crop_start = random.sample(range(0, duration - max_duration), 1)[0]\n",
    "        crop_end = crop_start + max_duration\n",
    "        cropped_clip = clip[crop_start : crop_end]\n",
    "    else:\n",
    "        cropped_clip = clip\n",
    "    \n",
    "    cropped_clip_mono = cropped_clip.set_channels(1) # convert to mono for GCS    \n",
    "    cropped_clip_mono.export('yt_audio/cropped_wav/' + ytID + '-cropped.wav', format = 'wav')"
   ]
  },
  {
   "cell_type": "code",
   "execution_count": null,
   "metadata": {},
   "outputs": [],
   "source": []
  }
 ],
 "metadata": {
  "kernelspec": {
   "display_name": "Python 3",
   "language": "python",
   "name": "python3"
  },
  "language_info": {
   "codemirror_mode": {
    "name": "ipython",
    "version": 3
   },
   "file_extension": ".py",
   "mimetype": "text/x-python",
   "name": "python",
   "nbconvert_exporter": "python",
   "pygments_lexer": "ipython3",
   "version": "3.6.6"
  }
 },
 "nbformat": 4,
 "nbformat_minor": 2
}
