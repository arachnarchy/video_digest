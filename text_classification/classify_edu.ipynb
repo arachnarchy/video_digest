{
 "cells": [
  {
   "cell_type": "code",
   "execution_count": 3,
   "metadata": {},
   "outputs": [
    {
     "data": {
      "text/html": [
       "<div>\n",
       "<style scoped>\n",
       "    .dataframe tbody tr th:only-of-type {\n",
       "        vertical-align: middle;\n",
       "    }\n",
       "\n",
       "    .dataframe tbody tr th {\n",
       "        vertical-align: top;\n",
       "    }\n",
       "\n",
       "    .dataframe thead th {\n",
       "        text-align: right;\n",
       "    }\n",
       "</style>\n",
       "<table border=\"1\" class=\"dataframe\">\n",
       "  <thead>\n",
       "    <tr style=\"text-align: right;\">\n",
       "      <th></th>\n",
       "      <th>ytID</th>\n",
       "      <th>transcript</th>\n",
       "      <th>confidence</th>\n",
       "      <th>channelId</th>\n",
       "      <th>title</th>\n",
       "      <th>tags</th>\n",
       "      <th>description</th>\n",
       "      <th>duration</th>\n",
       "      <th>label</th>\n",
       "    </tr>\n",
       "  </thead>\n",
       "  <tbody>\n",
       "    <tr>\n",
       "      <th>0</th>\n",
       "      <td>--rJwJuXuOI</td>\n",
       "      <td>yeah Peter Fairly OddParents Danny Phantom TU...</td>\n",
       "      <td>0.931320</td>\n",
       "      <td>UC80Z-cIOdR6upfnrPJ8Q00A</td>\n",
       "      <td>Becoming a CARTOON! | Thomas Sanders feat. But...</td>\n",
       "      <td>Thomas Sanders thomas sanders vine thomas sand...</td>\n",
       "      <td>By now, I think it's pretty apparent that I ha...</td>\n",
       "      <td>551.0</td>\n",
       "      <td>rec</td>\n",
       "    </tr>\n",
       "    <tr>\n",
       "      <th>1</th>\n",
       "      <td>-4XvTqhMbjo</td>\n",
       "      <td>season 2  if you have been watching since</td>\n",
       "      <td>0.920828</td>\n",
       "      <td>UCIRwyPYF1_7mCplRFGB_Png</td>\n",
       "      <td>Tatianna featuring Katya The Same Parts</td>\n",
       "      <td>[]</td>\n",
       "      <td>Night Of The Living Drag @ Stage 48 \\nNYC\\n10/...</td>\n",
       "      <td>394.0</td>\n",
       "      <td>rec</td>\n",
       "    </tr>\n",
       "    <tr>\n",
       "      <th>2</th>\n",
       "      <td>-4YF2u-wx7A</td>\n",
       "      <td>what does feminism mean to you I think there'...</td>\n",
       "      <td>0.946498</td>\n",
       "      <td>UCi_BjZoqPnMmkCLv2FlyBxQ</td>\n",
       "      <td>What Does Feminism Mean to You? (Smart Snacks ...</td>\n",
       "      <td>smart girls chvrches indie music independent l...</td>\n",
       "      <td>Anna Bulbrook (GIRLSCHOOL, The Bulls, The Airb...</td>\n",
       "      <td>27.0</td>\n",
       "      <td>edu</td>\n",
       "    </tr>\n",
       "    <tr>\n",
       "      <th>3</th>\n",
       "      <td>-4bGPF-8Syo</td>\n",
       "      <td>walking Hills like her she came in looking li...</td>\n",
       "      <td>0.854905</td>\n",
       "      <td>UCfm4y4rHF5HGrSr-qbvOwOg</td>\n",
       "      <td>Three Girls, One Elevator (ft. Zendaya &amp; Winni...</td>\n",
       "      <td>iisuperwomanii iisuperwomenii superwoman super...</td>\n",
       "      <td>Wouldn't it be awesome if more women said hi t...</td>\n",
       "      <td>116.0</td>\n",
       "      <td>rec</td>\n",
       "    </tr>\n",
       "    <tr>\n",
       "      <th>4</th>\n",
       "      <td>-5I4FCUo7AA</td>\n",
       "      <td>you don't look like a superhero that it's alr...</td>\n",
       "      <td>0.902851</td>\n",
       "      <td>UCi9cDo6239RAzPpBZO9y5SA</td>\n",
       "      <td>Are We Frenemies?! | Lele Pons, Hannah Stockin...</td>\n",
       "      <td>are we frenemies lele pons hannah stocking anw...</td>\n",
       "      <td>WATCH CELOSO MUSIC VIDEO HERE ▶ https://youtu....</td>\n",
       "      <td>402.0</td>\n",
       "      <td>rec</td>\n",
       "    </tr>\n",
       "  </tbody>\n",
       "</table>\n",
       "</div>"
      ],
      "text/plain": [
       "          ytID                                         transcript  confidence  \\\n",
       "0  --rJwJuXuOI   yeah Peter Fairly OddParents Danny Phantom TU...    0.931320   \n",
       "1  -4XvTqhMbjo          season 2  if you have been watching since    0.920828   \n",
       "2  -4YF2u-wx7A   what does feminism mean to you I think there'...    0.946498   \n",
       "3  -4bGPF-8Syo   walking Hills like her she came in looking li...    0.854905   \n",
       "4  -5I4FCUo7AA   you don't look like a superhero that it's alr...    0.902851   \n",
       "\n",
       "                  channelId  \\\n",
       "0  UC80Z-cIOdR6upfnrPJ8Q00A   \n",
       "1  UCIRwyPYF1_7mCplRFGB_Png   \n",
       "2  UCi_BjZoqPnMmkCLv2FlyBxQ   \n",
       "3  UCfm4y4rHF5HGrSr-qbvOwOg   \n",
       "4  UCi9cDo6239RAzPpBZO9y5SA   \n",
       "\n",
       "                                               title  \\\n",
       "0  Becoming a CARTOON! | Thomas Sanders feat. But...   \n",
       "1            Tatianna featuring Katya The Same Parts   \n",
       "2  What Does Feminism Mean to You? (Smart Snacks ...   \n",
       "3  Three Girls, One Elevator (ft. Zendaya & Winni...   \n",
       "4  Are We Frenemies?! | Lele Pons, Hannah Stockin...   \n",
       "\n",
       "                                                tags  \\\n",
       "0  Thomas Sanders thomas sanders vine thomas sand...   \n",
       "1                                                 []   \n",
       "2  smart girls chvrches indie music independent l...   \n",
       "3  iisuperwomanii iisuperwomenii superwoman super...   \n",
       "4  are we frenemies lele pons hannah stocking anw...   \n",
       "\n",
       "                                         description  duration label  \n",
       "0  By now, I think it's pretty apparent that I ha...     551.0   rec  \n",
       "1  Night Of The Living Drag @ Stage 48 \\nNYC\\n10/...     394.0   rec  \n",
       "2  Anna Bulbrook (GIRLSCHOOL, The Bulls, The Airb...      27.0   edu  \n",
       "3  Wouldn't it be awesome if more women said hi t...     116.0   rec  \n",
       "4  WATCH CELOSO MUSIC VIDEO HERE ▶ https://youtu....     402.0   rec  "
      ]
     },
     "execution_count": 3,
     "metadata": {},
     "output_type": "execute_result"
    }
   ],
   "source": [
    "import pandas as pd\n",
    "import numpy as np\n",
    "\n",
    "yt_data = pd.read_csv('yt_edu.csv', index_col = 0)\n",
    "yt_data.head()"
   ]
  },
  {
   "cell_type": "code",
   "execution_count": 4,
   "metadata": {},
   "outputs": [],
   "source": [
    "## IF-IDF Logistic regression\n",
    "from sklearn.feature_extraction.text import TfidfVectorizer\n",
    "from sklearn.linear_model.logistic import LogisticRegression\n",
    "from sklearn.model_selection import train_test_split, cross_val_score"
   ]
  },
  {
   "cell_type": "code",
   "execution_count": 5,
   "metadata": {},
   "outputs": [],
   "source": [
    "# Split in train test (default 0.25 test)\n",
    "X_train_raw, X_test_raw, y_train, y_test = train_test_split(yt_data['transcript'],yt_data['label'])"
   ]
  },
  {
   "cell_type": "code",
   "execution_count": 10,
   "metadata": {},
   "outputs": [],
   "source": [
    "# Vectorize raw test data\n",
    "vectorizer = TfidfVectorizer()\n",
    "X_train = vectorizer.fit_transform(X_train_raw)"
   ]
  },
  {
   "cell_type": "code",
   "execution_count": 11,
   "metadata": {},
   "outputs": [
    {
     "data": {
      "text/plain": [
       "LogisticRegression(C=1.0, class_weight=None, dual=False, fit_intercept=True,\n",
       "          intercept_scaling=1, max_iter=100, multi_class='ovr', n_jobs=1,\n",
       "          penalty='l2', random_state=None, solver='liblinear', tol=0.0001,\n",
       "          verbose=0, warm_start=False)"
      ]
     },
     "execution_count": 11,
     "metadata": {},
     "output_type": "execute_result"
    }
   ],
   "source": [
    "# Train LR classifier\n",
    "classifier = LogisticRegression()\n",
    "classifier.fit(X_train, y_train)"
   ]
  },
  {
   "cell_type": "code",
   "execution_count": 12,
   "metadata": {},
   "outputs": [
    {
     "name": "stdout",
     "output_type": "stream",
     "text": [
      "[0.81132075 0.88679245 0.86792453 0.86538462 0.82692308]\n"
     ]
    }
   ],
   "source": [
    "# Test model accuracy, 5x cross validation\n",
    "x_test = vectorizer.transform(X_test_raw)\n",
    "scores = cross_val_score(classifier, x_test, y_test, cv=5)\n",
    "print(scores)"
   ]
  },
  {
   "cell_type": "code",
   "execution_count": 20,
   "metadata": {},
   "outputs": [],
   "source": [
    "# Do predictions\n",
    "predictions = classifier.predict(x_test)"
   ]
  },
  {
   "cell_type": "code",
   "execution_count": 24,
   "metadata": {},
   "outputs": [
    {
     "name": "stdout",
     "output_type": "stream",
     "text": [
      "             precision    recall  f1-score   support\n",
      "\n",
      "        edu       0.84      0.84      0.84       123\n",
      "        rec       0.86      0.86      0.86       140\n",
      "\n",
      "avg / total       0.85      0.85      0.85       263\n",
      "\n"
     ]
    }
   ],
   "source": [
    "# report metrics\n",
    "from sklearn.metrics import classification_report\n",
    "print(classification_report(y_test, predictions))"
   ]
  },
  {
   "cell_type": "code",
   "execution_count": 62,
   "metadata": {},
   "outputs": [
    {
     "name": "stdout",
     "output_type": "stream",
     "text": [
      "['This transcript was classified as rec, with a probability of 0.5823674460678282']\n",
      "should I get your jacket that you took mine is not dead or something like that it's because of romantic movies they set the bar too high for the rest of us what does the same thing every year I thought about it actually idea that we should do that is a trailer and also the mean \n"
     ]
    }
   ],
   "source": [
    "# Single prediction\n",
    "text = X_test_raw[16]\n",
    "exemplar = vectorizer.transform([text]) # example string\n",
    "exemplar_cat = classifier.predict(exemplar) # returns category\n",
    "exemplar_prob = classifier.predict_proba(exemplar) # returns probability\n",
    "\n",
    "if exemplar_prob[0][0] > exemplar_prob[0][1]:\n",
    "    class_prob = exemplar_prob[0][0]\n",
    "else: class_prob = exemplar_prob[0][1]\n",
    "\n",
    "print('This transcript was classified as ' + exemplar_cat + ', with a probability of ' + str(class_prob))\n",
    "print(text[1:280])"
   ]
  },
  {
   "cell_type": "code",
   "execution_count": 63,
   "metadata": {},
   "outputs": [
    {
     "name": "stdout",
     "output_type": "stream",
     "text": [
      "['jeans' 'somebody' 'should']\n"
     ]
    }
   ],
   "source": [
    "# Most important features\n",
    "feature_array = np.array(vectorizer.get_feature_names())\n",
    "tfidf_sorting = np.argsort(exemplar.toarray()).flatten()[::-1]\n",
    "\n",
    "n = 3\n",
    "top_n = feature_array[tfidf_sorting][:n]\n",
    "print(top_n)"
   ]
  },
  {
   "cell_type": "code",
   "execution_count": 64,
   "metadata": {},
   "outputs": [],
   "source": [
    "## Save trained LR model\n",
    "import pickle\n",
    "\n",
    "file_Name = \"classifier_edu\"\n",
    "\n",
    "fileObject = open(file_Name,'wb') \n",
    "pickle.dump(classifier,fileObject)   \n",
    "fileObject.close()"
   ]
  },
  {
   "cell_type": "code",
   "execution_count": null,
   "metadata": {},
   "outputs": [],
   "source": [
    "# To open the file for reading\n",
    "fileObject = open(file_Name,'rb')\n",
    "classifier_pol_bias = pickle.load(fileObject)  \n",
    "fileObject.close()"
   ]
  }
 ],
 "metadata": {
  "kernelspec": {
   "display_name": "Python 3",
   "language": "python",
   "name": "python3"
  },
  "language_info": {
   "codemirror_mode": {
    "name": "ipython",
    "version": 3
   },
   "file_extension": ".py",
   "mimetype": "text/x-python",
   "name": "python",
   "nbconvert_exporter": "python",
   "pygments_lexer": "ipython3",
   "version": "3.6.6"
  }
 },
 "nbformat": 4,
 "nbformat_minor": 2
}
