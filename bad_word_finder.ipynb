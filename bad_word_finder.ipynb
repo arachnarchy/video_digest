{
 "cells": [
  {
   "cell_type": "markdown",
   "metadata": {},
   "source": [
    "# Count occurrences of \"bad words\" in transcript\n",
    "Checks transcript for matches in bad word list."
   ]
  },
  {
   "cell_type": "code",
   "execution_count": 50,
   "metadata": {},
   "outputs": [],
   "source": [
    "transcript = []\n",
    "with open('transcript.txt','r') as f:\n",
    "    for line in f:\n",
    "        for word in line.split():\n",
    "           transcript.append(word) \n",
    "\n",
    "# insert some bad words\n",
    "transcript[0] = 'shit'\n",
    "transcript[10] = 'shit'\n",
    "transcript[42] = 'fuck'"
   ]
  },
  {
   "cell_type": "code",
   "execution_count": 51,
   "metadata": {},
   "outputs": [],
   "source": [
    "badwords = []\n",
    "with open('resources/badwords.txt', 'r') as f:\n",
    "     for line in f:\n",
    "         for word in line.split():\n",
    "             badwords.append(word)"
   ]
  },
  {
   "cell_type": "code",
   "execution_count": 57,
   "metadata": {},
   "outputs": [],
   "source": [
    "badwords_in_transcript =  len([i for i in transcript if i in badwords ])"
   ]
  }
 ],
 "metadata": {
  "kernelspec": {
   "display_name": "Python 3",
   "language": "python",
   "name": "python3"
  },
  "language_info": {
   "codemirror_mode": {
    "name": "ipython",
    "version": 3
   },
   "file_extension": ".py",
   "mimetype": "text/x-python",
   "name": "python",
   "nbconvert_exporter": "python",
   "pygments_lexer": "ipython3",
   "version": "3.6.6"
  }
 },
 "nbformat": 4,
 "nbformat_minor": 2
}
