{
 "cells": [
  {
   "cell_type": "markdown",
   "metadata": {},
   "source": [
    "## Download audio from youtube"
   ]
  },
  {
   "cell_type": "code",
   "execution_count": 5,
   "metadata": {},
   "outputs": [],
   "source": [
    "from pytube import YouTube\n",
    "\n",
    "url = 'https://www.youtube.com/watch?v=N7-dg88gj6M' #47s news clip sensitive subject\n",
    "#url = 'https://www.youtube.com/watch?v=LDKw0Yr2KnA' \n",
    "\n",
    "\n",
    "yt = YouTube(url)\n",
    "filename = 'yt2'\n",
    "if yt.streams.filter(only_audio=True).all():\n",
    "    yt.streams.filter(only_audio=True).first().download(filename=filename)\n",
    "\n",
    "#yt.streams.filter(only_audio=True).all() #shows all available streams\n",
    "#YouTube('https://www.youtube.com/watch?v=_iSyYsv-5Oo').streams.first().download() # downloads best video"
   ]
  },
  {
   "cell_type": "markdown",
   "metadata": {},
   "source": [
    "## Convert to mono .wav for GCS"
   ]
  },
  {
   "cell_type": "code",
   "execution_count": 21,
   "metadata": {},
   "outputs": [
    {
     "data": {
      "text/plain": [
       "<_io.BufferedRandom name='yt2.wav'>"
      ]
     },
     "execution_count": 21,
     "metadata": {},
     "output_type": "execute_result"
    }
   ],
   "source": [
    "from pydub import AudioSegment\n",
    "\n",
    "clip =  AudioSegment.from_file(filename + \".mp4\")\n",
    "clip = clip.set_channels(1) # convert to mono for GCS\n",
    "clip.export(filename + '.wav', format='wav')"
   ]
  },
  {
   "cell_type": "markdown",
   "metadata": {},
   "source": [
    "## Upload to GC Storage bucket\n",
    "First, list available storage buckets:"
   ]
  },
  {
   "cell_type": "code",
   "execution_count": 1,
   "metadata": {},
   "outputs": [
    {
     "name": "stdout",
     "output_type": "stream",
     "text": [
      "[<Bucket: audio_a>]\n"
     ]
    }
   ],
   "source": [
    "from google.cloud import storage\n",
    "storage_client = storage.Client()\n",
    "\n",
    "# List GCS buckets\n",
    "buckets = list(storage_client.list_buckets())\n",
    "print(buckets)"
   ]
  },
  {
   "cell_type": "markdown",
   "metadata": {},
   "source": [
    "Then upload the file:"
   ]
  },
  {
   "cell_type": "code",
   "execution_count": 23,
   "metadata": {},
   "outputs": [],
   "source": [
    "bucket = storage_client.get_bucket('audio_a')\n",
    "blob = bucket.blob('tests/' + filename + '.wav')\n",
    "blob.upload_from_filename(filename + '.wav')"
   ]
  },
  {
   "cell_type": "markdown",
   "metadata": {},
   "source": [
    "Then list objects ('blobs') in the bucket:"
   ]
  },
  {
   "cell_type": "code",
   "execution_count": 24,
   "metadata": {},
   "outputs": [
    {
     "name": "stdout",
     "output_type": "stream",
     "text": [
      "fuck_history.wav\n",
      "musk_clip_mono.wav\n",
      "tests/yt1.wav\n",
      "tests/yt2.wav\n"
     ]
    }
   ],
   "source": [
    "def list_blobs(bucket_name):\n",
    "    \"\"\"Lists all the blobs in the bucket.\"\"\"\n",
    "    storage_client = storage.Client()\n",
    "    bucket = storage_client.get_bucket(bucket_name)\n",
    "\n",
    "    blobs = bucket.list_blobs()\n",
    "\n",
    "    for blob in blobs:\n",
    "        print(blob.name)\n",
    "        \n",
    "list_blobs('audio_a')"
   ]
  },
  {
   "cell_type": "code",
   "execution_count": null,
   "metadata": {},
   "outputs": [],
   "source": []
  }
 ],
 "metadata": {
  "kernelspec": {
   "display_name": "Python 3",
   "language": "python",
   "name": "python3"
  },
  "language_info": {
   "codemirror_mode": {
    "name": "ipython",
    "version": 3
   },
   "file_extension": ".py",
   "mimetype": "text/x-python",
   "name": "python",
   "nbconvert_exporter": "python",
   "pygments_lexer": "ipython3",
   "version": "3.6.6"
  }
 },
 "nbformat": 4,
 "nbformat_minor": 2
}
