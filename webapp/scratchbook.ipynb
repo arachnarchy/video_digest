{
 "cells": [
  {
   "cell_type": "code",
   "execution_count": 1,
   "metadata": {},
   "outputs": [
    {
     "data": {
      "text/plain": [
       "['.DS_Store', 'css', 'N7-dg88gj6M_t.txt', 'transcript3.txt']"
      ]
     },
     "execution_count": 1,
     "metadata": {},
     "output_type": "execute_result"
    }
   ],
   "source": [
    "import os\n",
    "\n",
    "static_list = os.listdir('static/')\n",
    "static_list"
   ]
  },
  {
   "cell_type": "code",
   "execution_count": null,
   "metadata": {},
   "outputs": [],
   "source": [
    "static_list = os.listdir('static/')\n",
    "filename + '_t.txt' not in static_list"
   ]
  },
  {
   "cell_type": "code",
   "execution_count": 3,
   "metadata": {},
   "outputs": [],
   "source": [
    "with open('/Users/daniel/Documents/Work/ProDev/Data Science/Keys/google_api_devkey.txt', 'r') as myfile:\n",
    "    DEVELOPER_KEY = myfile.read().replace('\\n', '')\n",
    "    \n",
    "YOUTUBE_API_SERVICE_NAME = \"youtube\"\n",
    "YOUTUBE_API_VERSION = \"v3\""
   ]
  },
  {
   "cell_type": "code",
   "execution_count": 15,
   "metadata": {},
   "outputs": [],
   "source": [
    "from html.parser import HTMLParser\n",
    "from apiclient.discovery import build\n",
    "from apiclient.errors import HttpError\n",
    "from oauth2client.tools import argparser\n",
    "import pandas as pd\n",
    "import pprint\n",
    "\n",
    "def get_video_data(yt_id):\n",
    "\n",
    "    def get_metadata(yt_id):\n",
    "        # This builds a Google API service object\n",
    "        client = build(YOUTUBE_API_SERVICE_NAME, YOUTUBE_API_VERSION,developerKey=DEVELOPER_KEY)\n",
    "\n",
    "        # The search() method carries out a youtube search\n",
    "        video_data = client.videos().list(\n",
    "        id = yt_id,\n",
    "        part=\"snippet,statistics\").execute()\n",
    "\n",
    "        d = {'title' : video_data['items'][0]['snippet']['title'],\n",
    "             'channelId' : video_data['items'][0]['snippet']['channelId'],\n",
    "             'tags' : video_data['items'][0]['snippet']['tags'],\n",
    "             'description' : video_data['items'][0]['snippet']['description'],\n",
    "             'views' : video_data['items'][0]['statistics']['viewCount'],\n",
    "             'likes' : video_data['items'][0]['statistics']['likeCount'],\n",
    "             'n_comments' : video_data['items'][0]['statistics']['commentCount']}\n",
    "\n",
    "        return d\n",
    "\n",
    "\n",
    "    def get_comments(yt_id):\n",
    "        \"\"\" Download all comments on youtube video \"\"\"\n",
    "\n",
    "        client = build(YOUTUBE_API_SERVICE_NAME, YOUTUBE_API_VERSION,developerKey=DEVELOPER_KEY)\n",
    "\n",
    "        video_comments = client.commentThreads().list(\n",
    "        videoId = yt_id,\n",
    "        part=\"snippet,replies\").execute()\n",
    "\n",
    "        comment_items = video_comments['items']\n",
    "\n",
    "        class MLStripper(HTMLParser):\n",
    "            def __init__(self):\n",
    "                self.reset()\n",
    "                self.strict = False\n",
    "                self.convert_charrefs= True\n",
    "                self.fed = []\n",
    "            def handle_data(self, d):\n",
    "                self.fed.append(d)\n",
    "            def get_data(self):\n",
    "                return ''.join(self.fed)\n",
    "\n",
    "        def strip_tags(html):\n",
    "            s = MLStripper()\n",
    "            s.feed(html)\n",
    "            return s.get_data()\n",
    "\n",
    "        comments = []\n",
    "        for sub_block in comment_items:\n",
    "            comments.append(strip_tags(sub_block['snippet']['topLevelComment']['snippet']['textDisplay']))\n",
    "\n",
    "        comments_all = ' '.join(comments)\n",
    "\n",
    "        return comments_all\n",
    "\n",
    "    metadata = get_metadata(yt_id)\n",
    "    comments = get_comments(yt_id)\n",
    "\n",
    "    metadata['comments'] = comments\n",
    "\n",
    "    return metadata"
   ]
  },
  {
   "cell_type": "code",
   "execution_count": 16,
   "metadata": {},
   "outputs": [],
   "source": [
    "toasty = get_video_data('N7-dg88gj6M')"
   ]
  },
  {
   "cell_type": "code",
   "execution_count": 10,
   "metadata": {},
   "outputs": [],
   "source": [
    "def get_comments(yt_id):\n",
    "        \"\"\" Download all comments on youtube video \"\"\"\n",
    "\n",
    "        client = build(YOUTUBE_API_SERVICE_NAME, YOUTUBE_API_VERSION,developerKey=DEVELOPER_KEY)\n",
    "\n",
    "        video_comments = client.commentThreads().list(\n",
    "        videoId = yt_id,\n",
    "        part=\"snippet,replies\").execute()\n",
    "\n",
    "        comment_items = video_comments['items']\n",
    "\n",
    "        class MLStripper(HTMLParser):\n",
    "            def __init__(self):\n",
    "                self.reset()\n",
    "                self.strict = False\n",
    "                self.convert_charrefs= True\n",
    "                self.fed = []\n",
    "            def handle_data(self, d):\n",
    "                self.fed.append(d)\n",
    "            def get_data(self):\n",
    "                return ''.join(self.fed)\n",
    "\n",
    "        def strip_tags(html):\n",
    "            s = MLStripper()\n",
    "            s.feed(html)\n",
    "            return s.get_data()\n",
    "\n",
    "        comments = []\n",
    "        for sub_block in comment_items:\n",
    "            comments.append(strip_tags(sub_block['snippet']['topLevelComment']['snippet']['textDisplay']))\n",
    "\n",
    "        comments_all = ' '.join(comments)\n",
    "\n",
    "        return comments_all"
   ]
  },
  {
   "cell_type": "code",
   "execution_count": 11,
   "metadata": {},
   "outputs": [],
   "source": [
    "toast = get_comments('N7-dg88gj6M')"
   ]
  },
  {
   "cell_type": "code",
   "execution_count": null,
   "metadata": {},
   "outputs": [],
   "source": []
  }
 ],
 "metadata": {
  "kernelspec": {
   "display_name": "Python 3",
   "language": "python",
   "name": "python3"
  },
  "language_info": {
   "codemirror_mode": {
    "name": "ipython",
    "version": 3
   },
   "file_extension": ".py",
   "mimetype": "text/x-python",
   "name": "python",
   "nbconvert_exporter": "python",
   "pygments_lexer": "ipython3",
   "version": "3.6.6"
  }
 },
 "nbformat": 4,
 "nbformat_minor": 2
}
