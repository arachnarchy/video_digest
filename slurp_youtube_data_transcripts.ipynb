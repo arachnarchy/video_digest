{
 "cells": [
  {
   "cell_type": "markdown",
   "metadata": {},
   "source": [
    "Roadmap:\n",
    "\n",
    "1. Get list of video ids in channel\n",
    "2. Loop through list, on each iteration do:\n",
    "        a. Get video metadata\n",
    "        b. Get video comments\n",
    "        c. download audio\n",
    "3. Loop through audio files\n",
    "        d. crop out random 1 min\n",
    "        e. send to GC\n",
    "        f. transcribe audio\n",
    "        g. add to db"
   ]
  },
  {
   "cell_type": "code",
   "execution_count": null,
   "metadata": {},
   "outputs": [],
   "source": [
    "from apiclient.discovery import build\n",
    "from apiclient.errors import HttpError\n",
    "from oauth2client.tools import argparser\n",
    "import pandas as pd\n",
    "import pprint"
   ]
  },
  {
   "cell_type": "code",
   "execution_count": 288,
   "metadata": {},
   "outputs": [],
   "source": [
    "import pandas as pd\n",
    "\n",
    "data = []\n",
    "df = pd.DataFrame(data,columns=['videoId','channel','title','description','categoryId','tags','comments','transcript','label'])"
   ]
  },
  {
   "cell_type": "markdown",
   "metadata": {},
   "source": [
    "## Get list of videos in playlist"
   ]
  },
  {
   "cell_type": "code",
   "execution_count": null,
   "metadata": {},
   "outputs": [],
   "source": [
    "with open('/Users/daniel/Documents/Work/ProDev/Data Science/Keys/google_api_devkey.txt', 'r') as myfile:\n",
    "    DEVELOPER_KEY = myfile.read().replace('\\n', '')\n",
    "    \n",
    "YOUTUBE_API_SERVICE_NAME = \"youtube\"\n",
    "YOUTUBE_API_VERSION = \"v3\""
   ]
  },
  {
   "cell_type": "code",
   "execution_count": null,
   "metadata": {},
   "outputs": [],
   "source": [
    "def youtube_get_playlistItems(playlist_id):\n",
    "    # This builds a Google API service object\n",
    "    youtube = build(YOUTUBE_API_SERVICE_NAME, YOUTUBE_API_VERSION,developerKey=DEVELOPER_KEY)\n",
    "    \n",
    "    # The search() method carries out a youtube search\n",
    "    playlist_data = youtube.playlistItems().list(\n",
    "    maxResults=10,\n",
    "    part=\"snippet,contentDetails\",\n",
    "    playlistId=playlist_id).execute()\n",
    "    return playlist_data"
   ]
  },
  {
   "cell_type": "markdown",
   "metadata": {},
   "source": [
    "List of educational playlists"
   ]
  },
  {
   "cell_type": "code",
   "execution_count": 281,
   "metadata": {},
   "outputs": [],
   "source": [
    "playlists = ['PLQlnTldJs0ZR56MScVzlbeucr3brcHb-e',\n",
    "             'PLQlnTldJs0ZTpajSmiZIgrXCy9lgTOlnO',\n",
    "             'PLQlnTldJs0ZQRpoi26VO9Yf5ONiG1iuHN',\n",
    "             'PLQlnTldJs0ZRb0SND9wouYhvZhrp3r4mi',\n",
    "             'PLQlnTldJs0ZRxgtbIjSjFt7nrdSiuSLB7',\n",
    "             'PLXB5R79dmFB5R5coEr-Lxj05uz9IL08aA',\n",
    "             'PLXB5R79dmFB4Tpajme1u_uU2Itgv32AwW',\n",
    "             'PLXB5R79dmFB7otT8i6QjMMe6JQD16dKbf',\n",
    "             'PLXB5R79dmFB774yFxXsCNpBjW2Y4ydsjw',\n",
    "             'PLXB5R79dmFB6GUqAvu3A-72BQPIIRj4ky',\n",
    "             'PL--IcfCujHzkZAhbqgqmnTSXpNEVYffAx',\n",
    "             'PL--IcfCujHzmvRf_sRI49JZh4sJoHaBoR',\n",
    "             'PL--IcfCujHzmKK7MDWI2FJbPeYvhOgrtq',\n",
    "             'PL--IcfCujHznt-6g9HAEkuXDmAzob-iIL',\n",
    "             'PL--IcfCujHznhqHD-BXyNdzgBtOQBalZK',\n",
    "             'PLL8_5VpX9Txpke4mWgBrsHVgNLeunW-XY',\n",
    "             'PLL8_5VpX9TxrgEhcI8juCe3EkEI2ukOBB',\n",
    "             'PLL8_5VpX9Txr4bGZuWBEUr8vAlx4_VxlB',\n",
    "             'PLL8_5VpX9Txod-mtbVTdWVlzze3FgfIPn',\n",
    "             'PLL8_5VpX9TxoTSDbbyRn8HRd7BX_1BubT',\n",
    "             'PLVEO9L2j-T3-Dq6xklRqXA_I1UprnlViY',\n",
    "             'PLJicmE8fK0EjcBM04Tz0UvUTJ3utyYD1G',\n",
    "             'PLJicmE8fK0EithsL37nZumzo_Ox5r4RCc',\n",
    "             'PLJicmE8fK0EhVa0WT8BnaTjdsuQrk2Jro',\n",
    "             'PLJicmE8fK0Ei7nZRhCz2zjNgt-NYPUk1a',\n",
    "             'PLJicmE8fK0EjW2AVwcSc4NvGyJJaw7bzh',\n",
    "             'PLJicmE8fK0EiRDlaTkXxb0_zSf68K5mK_',\n",
    "             'PLVv710SrggAFSQ9CI9qCYLOG1z9Hzn6HT',\n",
    "             'PLVv710SrggAEBjzev5UCmubDRdK0su1t1',\n",
    "             'PLVv710SrggAGWfeQKwKgSe18bK-gAQX9S',\n",
    "             'PLVv710SrggAGvTzBS9a3lUCVJovqsxtZ9',\n",
    "             'PLVv710SrggAF4Kv9scxQORKnaoNHv8hRU',\n",
    "             'PLzvRx_johoA8edvPQ8-XgXfsoRsC5-oOD',\n",
    "            'PLzvRx_johoA8_xlKTd_Ik2obcvCy129m4',\n",
    "            'PLzvRx_johoA86SmadC8ad7hVVjhlLAsD9',\n",
    "            'PLzvRx_johoA85tJ4dNepYNjRXM0svNOXH',\n",
    "            'PLsNB4peY6C6KXKxfLnNNWmZBtkdxmMNXl',\n",
    "            'PLsNB4peY6C6IF31r3l6clSnKORoNyMhzk',\n",
    "            'PLsNB4peY6C6K4UFpK7JYS2e4Q68Klyk7f',\n",
    "            'PLsNB4peY6C6Ig60CxHfz5EnLbHvO_KLvx',\n",
    "            'PLsNB4peY6C6JDc1HcVKjjYzVB0BYEXexd',\n",
    "            'PLsmqeqKj7M-o844Z3VzhHjWRgsDR5mp1H',\n",
    "            'PLsmqeqKj7M-pit0HHSLQSD6m77G07rm5Y',\n",
    "            'PLsmqeqKj7M-rx1GmqYA4THAa7oWj00DNU',\n",
    "            'PLsmqeqKj7M-p_cC_I81favAvBu4U8-5-2',\n",
    "            'PLsmqeqKj7M-ozZSbXmmH2iav-RmfTqnbW',\n",
    "            'PLsmqeqKj7M-rZTTXNXuL07poGP5B6TKKu',\n",
    "            'PLsmqeqKj7M-o844Z3VzhHjWRgsDR5mp1H',\n",
    "            'PLsmqeqKj7M-pit0HHSLQSD6m77G07rm5Y',\n",
    "            'PLsmqeqKj7M-oNkC2zP45Gv82GAH2NxIk0',\n",
    "            'PLsmqeqKj7M-p_cC_I81favAvBu4U8-5-2',\n",
    "            'PLsNB4peY6C6K4UFpK7JYS2e4Q68Klyk7f',\n",
    "            'PLsNB4peY6C6ITAcTNRXjT4btxvKjw9zh_',\n",
    "            'PLsNB4peY6C6IF31r3l6clSnKORoNyMhzk',\n",
    "            'PL6XRrncXkMaW5p7muaR2s2IqjouQh4jqS',\n",
    "            'PL6XRrncXkMaWLJ3PHTUEklzc5sSCcuvzN',\n",
    "            'PLAU0LF4XJrAD9dnt_yor9hRv5LCDHzpCP',\n",
    "            'PLAU0LF4XJrACFijD0--TOJ3gIwDODSsku',\n",
    "            'PLAU0LF4XJrACpn1r_ZkkW2q1mVgk1Jbt_',\n",
    "            'PLAU0LF4XJrAAyuF72wiAHGOFCD4xi_SMw',\n",
    "            'PLAU0LF4XJrAC2Nu7SGej4SSViqqjfoCz-',\n",
    "            'PLF7tUDhGkiCk_Ne30zu7SJ9gZF9R9ZruE',\n",
    "            'PLBDA2E52FB1EF80C9',\n",
    "            'PL8dPuuaLjXtNdTKZkV_GiIYXpV9w4WxbX',\n",
    "            'PLhyKYa0YJ_5Aq7g4bil7bnGi0A8gTsawu',\n",
    "            'PLNrBwGzpymDJRfz65scbF3gw8QnLsiIzi',\n",
    "            'PLNrBwGzpymDKo4qe4qVC5Egt5q5qQtYVR',\n",
    "            'PLR7XO54Pktt-DmLWCKF7Kc908nqX2HBjh',\n",
    "            'PLR7XO54Pktt9dN240Qdipsc34skwuoaiM',\n",
    "            'PLR7XO54Pktt-h8T-dtr4MXy0_MpbWukHW',\n",
    "            'PLR7XO54Pktt8v1Cur1RbsA6-kaj4utyKB',\n",
    "            'PLZRRxQcaEjA6B2kYpu8sIL9PCzH95MAk4',\n",
    "            'PLZRRxQcaEjA7kcmXICcmzIT5rAjVHPhuU',\n",
    "            'PLCC8FE4E06EA4941C',\n",
    "            'PLZRRxQcaEjA7zLrKGq17jA6dBbdC-lCZT', # now entertainment lists\n",
    "            'PLYH8WvNV1YEl5I_LbhUCXsSO55G0Vt62n',\n",
    "            'PL73YndQawY3NCdw11osa9XFpuEflYoSJ_',\n",
    "            'PLmZTDWJGfRq0A71qaZVMHOgFF4RvhQqyp',\n",
    "            'PLmZTDWJGfRq1I74fw0JPmwUMZf8rtggv5',\n",
    "            'PLD76956333AFE4D51',\n",
    "            'PL3tRBEVW0hiDIypZorKboIBW0spf_D-hD',\n",
    "            'PL3tRBEVW0hiAOf_drlpS1hqZjJknW88cB',\n",
    "            'LL7_YxT-KID8kRbqZo7MyscQ',\n",
    "            'LL1OFDlfdRb6ma1ZGZd07gWA',\n",
    "            'PLcI7eQ089VxFR1BZH5FhIPU-vG4tz0DRu',\n",
    "            'PLcI7eQ089VxFvlpjlxcUof6mwphE4wx6l',\n",
    "            'PLcI7eQ089VxEEDoW4JPqjuG4218u7gCk6',\n",
    "            'PLcI7eQ089VxGkHQVVbT7CeDbN4qa3iqc3',\n",
    "            'PLcI7eQ089VxEA5mhjWLr4TKcFh-UdPoII',\n",
    "            'PLYA7DZ_sbUzsVnpy2-a8-XQ8kfJTuDwhV',\n",
    "            'PLYA7DZ_sbUzsfen3S-mxCCLdri8hKg-1V',\n",
    "            'PLYA7DZ_sbUzs9bKcXBrIVTwh-oMv5VHhM',\n",
    "            'PLYA7DZ_sbUzu1QNPRf6aqWW3NOnL5ubaE',\n",
    "            'PLShD8ZZW7qjnKyDrH_9YhAf9qv8sUgh1Y',\n",
    "            'PL2C924BB1F9863B0A',\n",
    "            'PLShD8ZZW7qjlcuTyynP5CqrWujfto632g',\n",
    "            'PLShD8ZZW7qjmX6JAVhEQZAyFZGD9hbkmY',\n",
    "            'PLShD8ZZW7qjkZQIV0f3CRHXIntSa0V5JE',\n",
    "            'PLShD8ZZW7qjnnXG0kkuNRgLHCEcdnw3xg',\n",
    "            'PLDs0tNoNYTz3v1t-SgxocPKjx0tBhjFN7',\n",
    "            'PLRfpyIF9ZtKJU6pW5BZ8LBd__ZgXuqtoC',\n",
    "            'PLV4HyEXIJkIdgN7VZGHgUSGdqCDTYPRzP',\n",
    "            'PLV4HyEXIJkIeZby7IyHrEoRENvxEs12y5',\n",
    "            'PLV4HyEXIJkIdydiwk41Eh9AoHs5qlfo46',\n",
    "            'PLV4HyEXIJkIcF-CTFj9ZUdVknMRCjDgTu',\n",
    "            'PLABDF3052CBF1B195',\n",
    "            'PLgpSEqeiifKZBnKAWHu3Szb4O6H3MiUjN',\n",
    "            'PLH54esiPoK5QfeXDSqepFLfrI3oODjek7',\n",
    "            'PL5vtqDuUM1DmPrfOsZXwmrlxRUFDTFEL5',\n",
    "            'PL5MGfQbdoiHMkVYNtVv-QcoZTkFg0WiiN',\n",
    "            'PL5MGfQbdoiHMneAwPFeNCxuA1jiatAlBZ',\n",
    "            'PLn-DYG8yp4VWKUtr8bp5hVjNULoU-OOGk',\n",
    "            'PLRU-B1PBK4Buu_yoMI8V-eTel9O3gVMpB',\n",
    "            'LLSAUGyc_xA8uYzaIVG6MESQ',\n",
    "            'PLmjMRs-v1tgTWmpYuBPugvLqBXVz5H-vP',\n",
    "            'PLmjMRs-v1tgRdxzfAuDbu_lfCsBn3bFZO',\n",
    "            'PLmjMRs-v1tgSGZENMXL-DCUSS08q1yTq5',\n",
    "            'PLmjMRs-v1tgQOaPxDCxMmGKnfYDZ1i-hu',\n",
    "            'PLVoBDXUANqmuNE1ild0rH3PS2pt7AUrZD',\n",
    "            'PLVoBDXUANqmtFhAAQBe7OyxAhBgRtCmg2',\n",
    "            'PLVoBDXUANqmuVGUGQgx6OL2sk7G0qqawc',\n",
    "            'PLVoBDXUANqmuz4IJuVcLDo-Ohet1cZ8di',\n",
    "            'PLVoBDXUANqmsVxT2nJsZMeAObm-xU1Kvh',\n",
    "            'PLuBXqtS2jaLMhu9PU0tAaHbnqloWibwl0',\n",
    "            'PLuBXqtS2jaLMu81JnF6AOnRHzG6Csbd6y',\n",
    "            'PLuBXqtS2jaLOGQynSYvxaqUgvNl7Ovz8x',\n",
    "            'PLuBXqtS2jaLPglFGDgY4Ws8G3DUr5rrbD',\n",
    "            'PLuBXqtS2jaLOHcYCLGaRkFDynyeAWUEuh',\n",
    "            'PLLsg9FoLmvEGLrERwKWtQK36todNepF5Y',\n",
    "            'PLoieWSdjTgUJsw_fBrqYjdy2vyG43TNNT',\n",
    "            'PLoieWSdjTgUL9sILOr6pQN4rXGgNp59-u',\n",
    "            'PLoieWSdjTgUKn7tIz5vClqeWKDVPyVixF',\n",
    "            'PLoieWSdjTgULbg5N6HduVMC5ITugqTaYJ',\n",
    "            'PLoYRB6C09WUCiSOiaw5Z3EDafVaRBxCG6',\n",
    "            'PLoYRB6C09WUDTeQxMhw9yJnAPm5I5MrYs',\n",
    "            'PLoYRB6C09WUDbCndtEDELX-Fpk_pgATvF',\n",
    "            'PLasCX3wfxLR1pCiLj-9RNEwivsoHE5hnO',\n",
    "            'PLasCX3wfxLR3F056Ol_hUZFbqxAk_euzT',\n",
    "            'PLGy91QO1QYMTlc-FLtplUk4Yp3Om1m5bw',\n",
    "            'PLFJB31vsM1B_nfS5RrYh_goJB33srDvsz',\n",
    "            'PLFJB31vsM1B_uCdj8iwT6gQyxdZ_De_c8',\n",
    "            'PLFJB31vsM1B8iSHfr1p5X-Sm5VfeHnsxV',\n",
    "            'PLFJB31vsM1B903P4tIJ9pDmjLIcq0kfhC',\n",
    "            'PLfP2Zm9Pee8X6anjGtzxjQyEOxi8ig751',\n",
    "            'PLGVpxD1HlmJ_8irZfCT4jDX8-_XI4QN6O',\n",
    "            'LLsZXuHKonP9utl5q2hFCkgA',\n",
    "            'PLGVpxD1HlmJ-rWXxLwkOH6ZBCRWwweyl_',\n",
    "            'PLGVpxD1HlmJ8tjPWYB6ZEmK0FLh6o_ZGN']"
   ]
  },
  {
   "cell_type": "code",
   "execution_count": null,
   "metadata": {},
   "outputs": [],
   "source": [
    "from tqdm import tqdm  #progress bar\n",
    "\n",
    "#videoIds = []\n",
    "# loop through all playlists, extract up to 10 videoIds from each, and write them to df.\n",
    "for item in tqdm(playlists):\n",
    "    playlist_id = item\n",
    "    playlist_items = youtube_get_playlistItems(playlist_id)\n",
    "    \n",
    "    # write found video ids to list\n",
    "    for each in playlist_items['items']:\n",
    "        videoIds.append(each['contentDetails']['videoId'])"
   ]
  },
  {
   "cell_type": "markdown",
   "metadata": {},
   "source": [
    "Playlists 0-74 are educational, 75-148 entertainment. videoIds 0-718 edu, 719-1424 entertainment."
   ]
  },
  {
   "cell_type": "code",
   "execution_count": 289,
   "metadata": {},
   "outputs": [],
   "source": [
    "df.videoId = videoIds\n",
    "df.label.iloc[0:717] = 'edu'\n",
    "df.label.iloc[718:1423] = 'rec'"
   ]
  },
  {
   "cell_type": "code",
   "execution_count": null,
   "metadata": {},
   "outputs": [],
   "source": [
    "df.to_csv('intermediate_scrape.csv')"
   ]
  },
  {
   "cell_type": "code",
   "execution_count": null,
   "metadata": {},
   "outputs": [],
   "source": [
    "# skip private videos and ones over 10min"
   ]
  },
  {
   "cell_type": "code",
   "execution_count": 217,
   "metadata": {},
   "outputs": [],
   "source": [
    "from pytube import YouTube\n",
    "from pydub import AudioSegment\n",
    "from apiclient.discovery import build\n",
    "from apiclient.errors import HttpError\n",
    "from oauth2client.tools import argparser\n",
    "import pandas as pd\n",
    "import pprint\n",
    "import isodate\n",
    "from tqdm import tqdm  #progress bar"
   ]
  },
  {
   "cell_type": "code",
   "execution_count": 218,
   "metadata": {},
   "outputs": [],
   "source": [
    "with open('/Users/daniel/Documents/Work/ProDev/Data Science/Keys/google_api_devkey.txt', 'r') as myfile:\n",
    "    DEVELOPER_KEY = myfile.read().replace('\\n', '')\n",
    "    \n",
    "YOUTUBE_API_SERVICE_NAME = \"youtube\"\n",
    "YOUTUBE_API_VERSION = \"v3\""
   ]
  },
  {
   "cell_type": "code",
   "execution_count": 219,
   "metadata": {},
   "outputs": [],
   "source": [
    "def youtube_video_data(ID):\n",
    "    # This builds a Google API service object\n",
    "    youtube = build(YOUTUBE_API_SERVICE_NAME, YOUTUBE_API_VERSION,developerKey=DEVELOPER_KEY)\n",
    "    \n",
    "    # The search() method carries out a youtube search\n",
    "    video_data = youtube.videos().list(\n",
    "    id = ID,\n",
    "    part=\"snippet,contentDetails,statistics\").execute()\n",
    "    return video_data"
   ]
  },
  {
   "cell_type": "code",
   "execution_count": null,
   "metadata": {},
   "outputs": [],
   "source": [
    "#ytIDs = []\n",
    "#titles = []\n",
    "#channelIds = []\n",
    "#tagss = []\n",
    "#descriptions = []\n",
    "#durations = []\n",
    "\n",
    "for vid in tqdm(df.videoId[1037:1424]):\n",
    "    video_data = youtube_video_data(ID=vid)\n",
    "    \n",
    "    if video_data['items']:\n",
    "        duration = video_data['items'][0]['contentDetails']['duration']\n",
    "        duration = isodate.parse_duration(duration).total_seconds()\n",
    "        \n",
    "        if duration <= 630:\n",
    "            ytID = video_data['items'][0]['id']\n",
    "            title = video_data['items'][0]['snippet']['title']\n",
    "            channelId = video_data['items'][0]['snippet']['channelId']\n",
    "            description = video_data['items'][0]['snippet']['description']\n",
    "            \n",
    "            if 'tags' in video_data['items'][0]['snippet']:\n",
    "                tags = ' '.join(video_data['items'][0]['snippet']['tags'])\n",
    "            else:\n",
    "                tags = []\n",
    "            \n",
    "            # download yt audio\n",
    "            url = 'https://www.youtube.com/watch?v=' + vid\n",
    "            yt = YouTube(url)\n",
    "            filename = vid\n",
    "            if yt.streams.filter(only_audio=True).all():\n",
    "                yt.streams.filter(only_audio=True).first().download(filename=filename)\n",
    "                \n",
    "                ytIDs.append(ytID)\n",
    "                titles.append(title)\n",
    "                channelIds.append(channelId)\n",
    "                tagss.append(tags)\n",
    "                descriptions.append(description)\n",
    "                durations.append(duration)\n",
    "            \n",
    "\n"
   ]
  },
  {
   "cell_type": "code",
   "execution_count": 356,
   "metadata": {},
   "outputs": [],
   "source": [
    "data_temp = {'ytID': ytIDs,\n",
    "             'channelId': channelIds,\n",
    "             'title': titles,\n",
    "             'tags': tagss,\n",
    "             'description': descriptions,\n",
    "             'duration': durations}\n",
    "\n",
    "yt_data= pd.DataFrame(data_temp)"
   ]
  },
  {
   "cell_type": "markdown",
   "metadata": {},
   "source": [
    "Add labels to df"
   ]
  },
  {
   "cell_type": "code",
   "execution_count": 353,
   "metadata": {},
   "outputs": [],
   "source": [
    "df_lab = df.drop(columns=['channel','title','description','categoryId','tags','comments','transcript'])\n",
    "df_lab.columns = ['ytID', 'label']"
   ]
  },
  {
   "cell_type": "code",
   "execution_count": 377,
   "metadata": {},
   "outputs": [],
   "source": [
    "yt_data_unique = yt_data.drop_duplicates(subset = 'ytID')\n",
    "df_lab_unique = df_lab.drop_duplicates(subset = 'ytID')"
   ]
  },
  {
   "cell_type": "code",
   "execution_count": 381,
   "metadata": {},
   "outputs": [],
   "source": [
    "yt_data = pd.merge(yt_data_unique, df_lab_unique, how='left', on='ytID')"
   ]
  },
  {
   "cell_type": "code",
   "execution_count": 382,
   "metadata": {},
   "outputs": [
    {
     "name": "stdout",
     "output_type": "stream",
     "text": [
      "1068 entries, 1336 labels. 1068 entries after join\n"
     ]
    }
   ],
   "source": [
    "print(str(len(yt_data_unique)) + ' entries, ' + str(len(df_lab_unique)) \n",
    "      + ' labels. ' + str(len(yt_data)) + ' entries after join')"
   ]
  },
  {
   "cell_type": "code",
   "execution_count": 384,
   "metadata": {},
   "outputs": [],
   "source": [
    "yt_data.to_csv('yt_data.csv')"
   ]
  },
  {
   "cell_type": "markdown",
   "metadata": {},
   "source": [
    "## Join metadata and transcripts"
   ]
  },
  {
   "cell_type": "code",
   "execution_count": 15,
   "metadata": {},
   "outputs": [],
   "source": [
    "yt_data = pd.read_csv('yt_data.csv', index_col = 0)\n",
    "yt_transcripts = pd.read_csv('transcript_df.csv', index_col = 0)"
   ]
  },
  {
   "cell_type": "code",
   "execution_count": 16,
   "metadata": {},
   "outputs": [],
   "source": [
    "yt_edu = pd.merge(yt_transcripts, yt_data, how='left', on='ytID')"
   ]
  },
  {
   "cell_type": "code",
   "execution_count": 17,
   "metadata": {},
   "outputs": [
    {
     "name": "stdout",
     "output_type": "stream",
     "text": [
      "1050 transcripts, 1068 metadata items. 1050 entries after join\n"
     ]
    }
   ],
   "source": [
    "print(str(len(yt_transcripts)) + ' transcripts, ' + str(len(yt_data)) \n",
    "      + ' metadata items. ' + str(len(yt_edu)) + ' entries after join')"
   ]
  },
  {
   "cell_type": "code",
   "execution_count": 18,
   "metadata": {},
   "outputs": [],
   "source": [
    "yt_edu.to_csv('yt_edu.csv')"
   ]
  },
  {
   "cell_type": "code",
   "execution_count": null,
   "metadata": {},
   "outputs": [],
   "source": []
  }
 ],
 "metadata": {
  "kernelspec": {
   "display_name": "Python 3",
   "language": "python",
   "name": "python3"
  },
  "language_info": {
   "codemirror_mode": {
    "name": "ipython",
    "version": 3
   },
   "file_extension": ".py",
   "mimetype": "text/x-python",
   "name": "python",
   "nbconvert_exporter": "python",
   "pygments_lexer": "ipython3",
   "version": "3.6.6"
  }
 },
 "nbformat": 4,
 "nbformat_minor": 2
}
