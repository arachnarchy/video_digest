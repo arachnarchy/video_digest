{
 "cells": [
  {
   "cell_type": "markdown",
   "metadata": {},
   "source": [
    "## Processing longer audio files\n",
    "Google Cloud Speech will only process files < 1min synchronously. Longer files require the long_running_recognize method which is asynchronous and requires the files to be hosted on GC."
   ]
  },
  {
   "cell_type": "code",
   "execution_count": 1,
   "metadata": {},
   "outputs": [],
   "source": [
    "# function to use long-file transcription\n",
    "\n",
    "def transcribe_gcs(gcs_uri):\n",
    "    \"\"\"Asynchronously transcribes the audio file specified by the gcs_uri.\"\"\"\n",
    "    from google.cloud import speech\n",
    "    from google.cloud.speech import enums\n",
    "    from google.cloud.speech import types\n",
    "    \n",
    "    client = speech.SpeechClient()\n",
    "\n",
    "    audio = types.RecognitionAudio(uri=gcs_uri)\n",
    "    config = types.RecognitionConfig(\n",
    "        #encoding=enums.RecognitionConfig.AudioEncoding.FLAC,\n",
    "        #sample_rate_hertz=16000,\n",
    "        language_code='en-US')\n",
    "\n",
    "    operation = client.long_running_recognize(config, audio)\n",
    "\n",
    "    response = operation.result(timeout=90)\n",
    "\n",
    "    transcription_str = ''\n",
    "    confidence_metric = 0\n",
    "    for result in response.results:\n",
    "        transcription_str += ' ' + format(result.alternatives[0].transcript)\n",
    "        confidence_metric = format(result.alternatives[0].confidence)\n",
    "\n",
    "    #for result in response.results:\n",
    "        # The first alternative is the most likely one for this portion.\n",
    "        #print(u'Transcript: {}'.format(result.alternatives[0].transcript))\n",
    "        #print('Confidence: {}'.format(result.alternatives[0].confidence))\n",
    "        \n",
    "    return transcription_str, confidence_metric"
   ]
  },
  {
   "cell_type": "code",
   "execution_count": 2,
   "metadata": {},
   "outputs": [
    {
     "name": "stdout",
     "output_type": "stream",
     "text": [
      "[<Bucket: audio_a>, <Bucket: youtube_wavs>]\n"
     ]
    }
   ],
   "source": [
    "from google.cloud import storage\n",
    "storage_client = storage.Client()\n",
    "\n",
    "# List GCS buckets\n",
    "buckets = list(storage_client.list_buckets())\n",
    "print(buckets)"
   ]
  },
  {
   "cell_type": "code",
   "execution_count": 2,
   "metadata": {},
   "outputs": [],
   "source": [
    "def list_blobs(bucket_name):\n",
    "    \"\"\"Lists all the blobs in the bucket.\"\"\"\n",
    "    from google.cloud import storage\n",
    "    \n",
    "    storage_client = storage.Client()\n",
    "    bucket = storage_client.get_bucket(bucket_name)\n",
    "\n",
    "    blobs = bucket.list_blobs()\n",
    "    return(blobs)"
   ]
  },
  {
   "cell_type": "code",
   "execution_count": 3,
   "metadata": {},
   "outputs": [],
   "source": [
    "blob_list = list_blobs('youtube_wavs')\n",
    "\n",
    "blobs = []\n",
    "for blob in blob_list:\n",
    "    blobs.append(blob)\n",
    "\n",
    "gc_files = []    \n",
    "for blob in blobs:    \n",
    "    gc_file = str(blob)[-24:-1]\n",
    "    gc_files.append(gc_file)"
   ]
  },
  {
   "cell_type": "code",
   "execution_count": null,
   "metadata": {},
   "outputs": [],
   "source": [
    "from tqdm import tqdm\n",
    "\n",
    "#ytIDs = []\n",
    "#transcripts = []\n",
    "#confidences = []\n",
    "\n",
    "for filename in tqdm(gc_files[990:(len(gc_files)-1)]):\n",
    "    wav_file = 'gs://youtube_wavs/' + filename\n",
    "    t, c = transcribe_gcs(wav_file)\n",
    "    ytID = filename[0:11]\n",
    "    \n",
    "    ytIDs.append(ytID)\n",
    "    transcripts.append(t)\n",
    "    confidences.append(c)"
   ]
  },
  {
   "cell_type": "markdown",
   "metadata": {},
   "source": [
    "Save out as dataframe"
   ]
  },
  {
   "cell_type": "code",
   "execution_count": 21,
   "metadata": {},
   "outputs": [],
   "source": [
    "import pandas as pd\n",
    "trans_temp = {'ytID': ytIDs,\n",
    "             'transcript': transcripts,\n",
    "             'confidence': confidences}\n",
    "\n",
    "transcript_df = pd.DataFrame(trans_temp)\n",
    "transcript_df.to_csv('transcript_df.csv')"
   ]
  },
  {
   "cell_type": "code",
   "execution_count": 14,
   "metadata": {},
   "outputs": [
    {
     "data": {
      "text/plain": [
       "'vI5EzZ74fRw'"
      ]
     },
     "execution_count": 14,
     "metadata": {},
     "output_type": "execute_result"
    }
   ],
   "source": [
    "curr_id = ytIDs[len(ytIDs)-1]\n",
    "curr_id"
   ]
  },
  {
   "cell_type": "markdown",
   "metadata": {},
   "source": [
    "Reload dataframe in case of stall"
   ]
  },
  {
   "cell_type": "code",
   "execution_count": 4,
   "metadata": {},
   "outputs": [],
   "source": [
    "import pandas as pd\n",
    "restart = pd.read_csv('trans_temp.csv')\n",
    "ytIDs = restart['ytID'].tolist()\n",
    "transcripts = restart['transcript'].tolist()\n",
    "confidences = restart['confidence'].tolist()"
   ]
  },
  {
   "cell_type": "markdown",
   "metadata": {},
   "source": [
    "# Test zone"
   ]
  },
  {
   "cell_type": "markdown",
   "metadata": {},
   "source": [
    "## Transcribe a single audio file hosted on GC"
   ]
  },
  {
   "cell_type": "code",
   "execution_count": null,
   "metadata": {},
   "outputs": [],
   "source": [
    "filenaame =   '8ns4cfMABqQ-cropped.wav'\n",
    "audio_file = 'gs://youtube_wavs/' + filenaame\n",
    "t, c = transcribe_gcs(audio_file)"
   ]
  },
  {
   "cell_type": "code",
   "execution_count": 41,
   "metadata": {},
   "outputs": [
    {
     "name": "stdout",
     "output_type": "stream",
     "text": [
      "0.9208365082740784\n"
     ]
    }
   ],
   "source": [
    "print(c)"
   ]
  },
  {
   "cell_type": "markdown",
   "metadata": {},
   "source": [
    "Write the transcript to a file"
   ]
  },
  {
   "cell_type": "code",
   "execution_count": null,
   "metadata": {},
   "outputs": [],
   "source": [
    "transcript = open(\"transcript2.txt\", \"w\")\n",
    "transcript.write(t)\n",
    "transcript.close()"
   ]
  }
 ],
 "metadata": {
  "kernelspec": {
   "display_name": "Python 3",
   "language": "python",
   "name": "python3"
  },
  "language_info": {
   "codemirror_mode": {
    "name": "ipython",
    "version": 3
   },
   "file_extension": ".py",
   "mimetype": "text/x-python",
   "name": "python",
   "nbconvert_exporter": "python",
   "pygments_lexer": "ipython3",
   "version": "3.6.6"
  }
 },
 "nbformat": 4,
 "nbformat_minor": 2
}
