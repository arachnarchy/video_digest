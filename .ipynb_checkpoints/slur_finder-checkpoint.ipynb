{
 "cells": [
  {
   "cell_type": "markdown",
   "metadata": {},
   "source": [
    "# Count occurrences of \"slurs\" in transcript\n",
    "Checks transcript for matches in slur list."
   ]
  },
  {
   "cell_type": "code",
   "execution_count": 1,
   "metadata": {},
   "outputs": [],
   "source": [
    "transcript = []\n",
    "with open('transcript.txt','r') as f:\n",
    "    for line in f:\n",
    "        for word in line.split():\n",
    "           transcript.append(word) \n",
    "\n",
    "# insert some slurs\n",
    "transcript[0] = 'nigga'"
   ]
  },
  {
   "cell_type": "code",
   "execution_count": 2,
   "metadata": {},
   "outputs": [],
   "source": [
    "slurs = []\n",
    "with open('resources/slurs.txt', 'r') as f:\n",
    "     for line in f:\n",
    "         for word in line.split():\n",
    "             slurs.append(word)"
   ]
  },
  {
   "cell_type": "code",
   "execution_count": 4,
   "metadata": {},
   "outputs": [
    {
     "data": {
      "text/plain": [
       "1"
      ]
     },
     "execution_count": 4,
     "metadata": {},
     "output_type": "execute_result"
    }
   ],
   "source": [
    "slurs_in_transcript =  len([i for i in transcript if i in slurs ])\n",
    "slurs_in_transcript"
   ]
  }
 ],
 "metadata": {
  "kernelspec": {
   "display_name": "Python 3",
   "language": "python",
   "name": "python3"
  },
  "language_info": {
   "codemirror_mode": {
    "name": "ipython",
    "version": 3
   },
   "file_extension": ".py",
   "mimetype": "text/x-python",
   "name": "python",
   "nbconvert_exporter": "python",
   "pygments_lexer": "ipython3",
   "version": "3.6.6"
  }
 },
 "nbformat": 4,
 "nbformat_minor": 2
}
